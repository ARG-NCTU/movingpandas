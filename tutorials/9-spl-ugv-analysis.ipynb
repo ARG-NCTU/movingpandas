{
 "cells": [
  {
   "cell_type": "code",
   "execution_count": 1,
   "metadata": {
    "scrolled": true
   },
   "outputs": [
    {
     "name": "stdout",
     "output_type": "stream",
     "text": [
      "\n",
      "MovingPandas 0.17.1\n",
      "\n",
      "SYSTEM INFO\n",
      "-----------\n",
      "python     : 3.8.10 (default, Jun 22 2022, 20:18:18)  [GCC 9.4.0]\n",
      "executable : /usr/bin/python3\n",
      "machine    : Linux-5.15.0-78-generic-x86_64-with-glibc2.29\n",
      "\n",
      "GEOS, GDAL, PROJ INFO\n",
      "---------------------\n",
      "GEOS       : None\n",
      "GEOS lib   : None\n",
      "GDAL       : 3.6.4\n",
      "GDAL data dir: /usr/local/lib/python3.8/dist-packages/fiona/gdal_data\n",
      "PROJ       : 9.2.0\n",
      "PROJ data dir: /usr/local/lib/python3.8/dist-packages/pyproj/proj_dir/share/proj\n",
      "\n",
      "PYTHON DEPENDENCIES\n",
      "-------------------\n",
      "geopandas  : 0.13.2\n",
      "pandas     : 1.5.3\n",
      "fiona      : 1.9.5\n",
      "numpy      : 1.24.1\n",
      "shapely    : 2.0.2\n",
      "rtree      : 1.1.0\n",
      "pyproj     : 3.5.0\n",
      "matplotlib : 3.6.3\n",
      "mapclassify: None\n",
      "geopy      : 2.4.0\n",
      "holoviews  : 1.17.1\n",
      "hvplot     : 0.9.0\n",
      "geoviews   : 1.10.1\n",
      "stonesoup  : None\n"
     ]
    }
   ],
   "source": [
    "import pandas as pd\n",
    "from geopandas import GeoDataFrame, read_file\n",
    "from shapely.geometry import Point, LineString\n",
    "import numpy as np\n",
    "\n",
    "import sys\n",
    "sys.path.append(\"..\")\n",
    "import movingpandas as mpd\n",
    "mpd.show_versions()\n",
    "\n",
    "from datetime import datetime\n",
    "\n",
    "import warnings\n",
    "warnings.simplefilter(\"ignore\")"
   ]
  },
  {
   "cell_type": "code",
   "execution_count": 2,
   "metadata": {},
   "outputs": [
    {
     "name": "stdout",
     "output_type": "stream",
     "text": [
      "length 23.757969226052708\n"
     ]
    }
   ],
   "source": [
    "df_astar = pd.read_csv('data/astar_mike.csv' , delimiter=',')\n",
    "\n",
    "id_list = []\n",
    "time_list = []\n",
    "for i in df_astar['t']:\n",
    "    time_list.append(datetime.fromtimestamp(i).strftime(\"%A, %B %d, %Y %I:%M:%S.%f\"))\n",
    "    id_list.append(1)\n",
    "df_astar['t'] = time_list\n",
    "\n",
    "point_list = []\n",
    "for x,y in zip(df_astar['X'],df_astar['Y']):\n",
    "    point_list.append(Point(x,y))\n",
    "\n",
    "geo_astar = pd.DataFrame(columns=['geometry', 't'])\n",
    "geo_astar['geometry'] = point_list\n",
    "geo_astar['t'] = time_list\n",
    "geo_astar['trajectory_id'] = id_list\n",
    "geo_astar = GeoDataFrame(geo_astar, crs=31256)\n",
    "\n",
    "traj_astar = mpd.Trajectory(geo_astar, 1, t='t')\n",
    "traj_astar.add_direction(overwrite=True)\n",
    "traj_astar.add_speed(overwrite=True)\n",
    "traj_astar.add_angular_difference(overwrite=True)\n",
    "\n",
    "print(\"length\", traj_astar.get_length())\n",
    "# traj_astar.plot(column='trajectory_id', legend=True, color='red')"
   ]
  },
  {
   "cell_type": "code",
   "execution_count": 3,
   "metadata": {},
   "outputs": [
    {
     "name": "stdout",
     "output_type": "stream",
     "text": [
      "length 23.749966886193654\n"
     ]
    }
   ],
   "source": [
    "df_astar = pd.read_csv('data/astar_juile.csv' , delimiter=',')\n",
    "\n",
    "id_list = []\n",
    "time_list = []\n",
    "for i in df_astar['t']:\n",
    "    time_list.append(datetime.fromtimestamp(i).strftime(\"%A, %B %d, %Y %I:%M:%S.%f\"))\n",
    "    id_list.append(2)\n",
    "df_astar['t'] = time_list\n",
    "\n",
    "point_list = []\n",
    "for x,y in zip(df_astar['X'],df_astar['Y']):\n",
    "    point_list.append(Point(x,y))\n",
    "\n",
    "geo_astar_2 = pd.DataFrame(columns=['geometry', 't'])\n",
    "geo_astar_2['geometry'] = point_list\n",
    "geo_astar_2['t'] = time_list\n",
    "geo_astar_2['trajectory_id'] = id_list\n",
    "geo_astar_2 = GeoDataFrame(geo_astar_2, crs=31256)\n",
    "\n",
    "traj_astar = mpd.Trajectory(geo_astar_2, 1, t='t')\n",
    "traj_astar.add_direction(overwrite=True)\n",
    "traj_astar.add_speed(overwrite=True)\n",
    "traj_astar.add_angular_difference(overwrite=True)\n",
    "\n",
    "\n",
    "print(\"length\", traj_astar.get_length())\n",
    "# traj_astar.plot(column='trajectory_id', legend=True, color='red')"
   ]
  },
  {
   "cell_type": "code",
   "execution_count": 5,
   "metadata": {},
   "outputs": [
    {
     "name": "stdout",
     "output_type": "stream",
     "text": [
      "length 26.904486283537658\n",
      "spl: 0.8827511752464051\n"
     ]
    }
   ],
   "source": [
    "df_piA = pd.read_csv('data/DomainA_240/piA/piA_240_ep1.csv' , delimiter=',')\n",
    "\n",
    "id_list = []\n",
    "time_list = []\n",
    "for i in df_piA['t']:\n",
    "    time_list.append(datetime.fromtimestamp(i).strftime(\"%A, %B %d, %Y %I:%M:%S.%f\"))\n",
    "    id_list.append(3)\n",
    "df_piA['t'] = time_list\n",
    "\n",
    "point_list = []\n",
    "for x,y in zip(df_piA['X'],df_piA['Y']):\n",
    "    point_list.append(Point(x,y))\n",
    "\n",
    "geo_df_piA = pd.DataFrame(columns=['geometry', 't'])\n",
    "geo_df_piA['geometry'] = point_list\n",
    "geo_df_piA['t'] = time_list\n",
    "geo_df_piA['trajectory_id'] = id_list\n",
    "geo_df_piA = GeoDataFrame(geo_df_piA, crs=31256)\n",
    "\n",
    "traj_astar = mpd.Trajectory(geo_df_piA, 1, t='t')\n",
    "traj_astar.add_direction(overwrite=True)\n",
    "traj_astar.add_speed(overwrite=True)\n",
    "traj_astar.add_angular_difference(overwrite=True)\n",
    "\n",
    "\n",
    "print(\"length\", traj_astar.get_length())\n",
    "print(\"spl:\", 23.749966886193654/ traj_astar.get_length())\n",
    "# traj_astar.plot(column='trajectory_id', legend=True, color='red')"
   ]
  },
  {
   "cell_type": "code",
   "execution_count": null,
   "metadata": {},
   "outputs": [],
   "source": []
  }
 ],
 "metadata": {
  "kernelspec": {
   "display_name": "Python 3 (ipykernel)",
   "language": "python",
   "name": "python3"
  },
  "language_info": {
   "codemirror_mode": {
    "name": "ipython",
    "version": 3
   },
   "file_extension": ".py",
   "mimetype": "text/x-python",
   "name": "python",
   "nbconvert_exporter": "python",
   "pygments_lexer": "ipython3",
   "version": "3.8.10"
  }
 },
 "nbformat": 4,
 "nbformat_minor": 2
}
