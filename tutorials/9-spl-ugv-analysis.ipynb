{
 "cells": [
  {
   "cell_type": "code",
   "execution_count": 23,
   "metadata": {
    "scrolled": true
   },
   "outputs": [
    {
     "name": "stdout",
     "output_type": "stream",
     "text": [
      "\n",
      "MovingPandas 0.17.1\n",
      "\n",
      "SYSTEM INFO\n",
      "-----------\n",
      "python     : 3.8.10 (default, Jun 22 2022, 20:18:18)  [GCC 9.4.0]\n",
      "executable : /usr/bin/python3\n",
      "machine    : Linux-5.15.0-87-generic-x86_64-with-glibc2.29\n",
      "\n",
      "GEOS, GDAL, PROJ INFO\n",
      "---------------------\n",
      "GEOS       : None\n",
      "GEOS lib   : None\n",
      "GDAL       : 3.6.4\n",
      "GDAL data dir: /usr/local/lib/python3.8/dist-packages/fiona/gdal_data\n",
      "PROJ       : 9.2.0\n",
      "PROJ data dir: /usr/local/lib/python3.8/dist-packages/pyproj/proj_dir/share/proj\n",
      "\n",
      "PYTHON DEPENDENCIES\n",
      "-------------------\n",
      "geopandas  : 0.13.2\n",
      "pandas     : 1.5.3\n",
      "fiona      : 1.9.5\n",
      "numpy      : 1.24.1\n",
      "shapely    : 2.0.2\n",
      "rtree      : 1.1.0\n",
      "pyproj     : 3.5.0\n",
      "matplotlib : 3.6.3\n",
      "mapclassify: None\n",
      "geopy      : 2.4.0\n",
      "holoviews  : 1.17.1\n",
      "hvplot     : 0.9.0\n",
      "geoviews   : 1.10.1\n",
      "stonesoup  : None\n"
     ]
    }
   ],
   "source": [
    "import pandas as pd\n",
    "from geopandas import GeoDataFrame, read_file\n",
    "from shapely.geometry import Point, LineString\n",
    "import numpy as np\n",
    "import matplotlib.pyplot as plt\n",
    "\n",
    "import sys\n",
    "sys.path.append(\"..\")\n",
    "import movingpandas as mpd\n",
    "mpd.show_versions()\n",
    "\n",
    "from datetime import datetime\n",
    "\n",
    "import warnings\n",
    "warnings.simplefilter(\"ignore\")"
   ]
  },
  {
   "cell_type": "code",
   "execution_count": 24,
   "metadata": {},
   "outputs": [],
   "source": [
    "# domain A piA csv path\n",
    "DA_piA_csv = 'data/DomainA_240/piA/piA_240_ep'\n",
    "DA_piA_pth = [DA_piA_csv+str(i) for i in range(1, 11)]\n",
    "\n",
    "for i in range(1, 11):\n",
    "    df = pd.read_csv(DA_piA_pth[i-1]+'.csv')\n",
    "    traj_id = [i]*len(df)\n",
    "    df['trajectory_id'] = traj_id\n",
    "    df.to_csv(DA_piA_pth[i-1]+'.csv', index=False)\n",
    "\n",
    "# domain A piAC csv path\n",
    "DA_piAC_csv = 'data/DomainA_240/piAC/piAC_240_ep'\n",
    "DA_piAC_pth = [DA_piAC_csv+str(i) for i in range(1, 11)]\n",
    "\n",
    "for i in range(11, 21):\n",
    "    df = pd.read_csv(DA_piAC_pth[i-11]+'.csv')\n",
    "    traj_id = [i]*len(df)\n",
    "    df['trajectory_id'] = traj_id\n",
    "    df.to_csv(DA_piAC_pth[i-11]+'.csv', index=False)\n",
    "\n",
    "\n",
    "# domain C pi AC csv path\n",
    "DC_piAC_csv = 'data/piAC_cave_DomainC_90degree/cave_curriculum90_'\n",
    "DC_piAC_pth = [DC_piAC_csv+str(i) for i in range(1, 11)]\n",
    "\n",
    "for i in range(21, 31):\n",
    "    df = pd.read_csv(DC_piAC_pth[i-21]+'.csv')\n",
    "    traj_id = [i]*len(df)\n",
    "    df['trajectory_id'] = traj_id\n",
    "    df.to_csv(DC_piAC_pth[i-21]+'.csv', index=False)"
   ]
  },
  {
   "cell_type": "code",
   "execution_count": 25,
   "metadata": {},
   "outputs": [],
   "source": [
    "def calculate_spl(pth):\n",
    "    df = pd.read_csv(pth+'.csv' , delimiter=',')\n",
    "\n",
    "    time_list = []\n",
    "    for i in df['t']:\n",
    "        time_list.append(datetime.fromtimestamp(i).strftime(\"%A, %B %d, %Y %I:%M:%S.%f\"))\n",
    "\n",
    "    df['t'] = time_list\n",
    "\n",
    "    point_list = []\n",
    "    for x,y in zip(df['X'],df['Y']):\n",
    "        point_list.append(Point(x,y))\n",
    "\n",
    "    geo_df = pd.DataFrame(columns=['geometry', 't'])\n",
    "    geo_df['geometry'] = point_list\n",
    "    geo_df['t'] = time_list\n",
    "    geo_df['trajectory_id'] = df['trajectory_id']\n",
    "    geo_df = GeoDataFrame(geo_df, crs=31256)\n",
    "\n",
    "    traj_df = mpd.Trajectory(geo_df, 1, t='t')\n",
    "    traj_df.add_direction(overwrite=True)\n",
    "    traj_df.add_speed(overwrite=True)\n",
    "    traj_df.add_angular_difference(overwrite=True)\n",
    "\n",
    "#     print(\"length\", traj_df.get_length())\n",
    "    return traj_df.get_length()"
   ]
  },
  {
   "cell_type": "code",
   "execution_count": 26,
   "metadata": {},
   "outputs": [
    {
     "name": "stdout",
     "output_type": "stream",
     "text": [
      "length 23.757969226052708\n"
     ]
    }
   ],
   "source": [
    "df_astar = pd.read_csv('data/astar_mike.csv' , delimiter=',')\n",
    "\n",
    "id_list = []\n",
    "time_list = []\n",
    "for i in df_astar['t']:\n",
    "    time_list.append(datetime.fromtimestamp(i).strftime(\"%A, %B %d, %Y %I:%M:%S.%f\"))\n",
    "    id_list.append(1)\n",
    "df_astar['t'] = time_list\n",
    "\n",
    "point_list = []\n",
    "for x,y in zip(df_astar['X'],df_astar['Y']):\n",
    "    point_list.append(Point(x,y))\n",
    "\n",
    "geo_astar = pd.DataFrame(columns=['geometry', 't'])\n",
    "geo_astar['geometry'] = point_list\n",
    "geo_astar['t'] = time_list\n",
    "geo_astar['trajectory_id'] = id_list\n",
    "geo_astar = GeoDataFrame(geo_astar, crs=31256)\n",
    "\n",
    "traj_astar = mpd.Trajectory(geo_astar, 1, t='t')\n",
    "traj_astar.add_direction(overwrite=True)\n",
    "traj_astar.add_speed(overwrite=True)\n",
    "traj_astar.add_angular_difference(overwrite=True)\n",
    "\n",
    "print(\"length\", traj_astar.get_length())\n",
    "# traj_astar.plot(column='trajectory_id', legend=True, color='red')"
   ]
  },
  {
   "cell_type": "code",
   "execution_count": 27,
   "metadata": {},
   "outputs": [
    {
     "name": "stdout",
     "output_type": "stream",
     "text": [
      "length 23.749966886193654\n"
     ]
    }
   ],
   "source": [
    "df_astar = pd.read_csv('data/astar_juile.csv' , delimiter=',')\n",
    "\n",
    "id_list = []\n",
    "time_list = []\n",
    "for i in df_astar['t']:\n",
    "    time_list.append(datetime.fromtimestamp(i).strftime(\"%A, %B %d, %Y %I:%M:%S.%f\"))\n",
    "    id_list.append(2)\n",
    "df_astar['t'] = time_list\n",
    "\n",
    "point_list = []\n",
    "for x,y in zip(df_astar['X'],df_astar['Y']):\n",
    "    point_list.append(Point(x,y))\n",
    "\n",
    "geo_astar_2 = pd.DataFrame(columns=['geometry', 't'])\n",
    "geo_astar_2['geometry'] = point_list\n",
    "geo_astar_2['t'] = time_list\n",
    "geo_astar_2['trajectory_id'] = id_list\n",
    "geo_astar_2 = GeoDataFrame(geo_astar_2, crs=31256)\n",
    "\n",
    "traj_astar = mpd.Trajectory(geo_astar_2, 1, t='t')\n",
    "traj_astar.add_direction(overwrite=True)\n",
    "traj_astar.add_speed(overwrite=True)\n",
    "traj_astar.add_angular_difference(overwrite=True)\n",
    "\n",
    "\n",
    "print(\"length\", traj_astar.get_length())\n",
    "# traj_astar.plot(column='trajectory_id', legend=True, color='red')"
   ]
  },
  {
   "cell_type": "code",
   "execution_count": 28,
   "metadata": {},
   "outputs": [
    {
     "name": "stdout",
     "output_type": "stream",
     "text": [
      "[26.904486283537658, 26.9994271270156, 26.980986414482903, 26.071662745415555, 26.90224838080957, 26.917821996627858, 26.94056797973722, 26.737309501582935, 26.937028678203752, 26.944415000725755]\n",
      "[25.741950955725777, 25.971870463514687, 25.88010170978857, 25.76251449621285, 25.822799839012063, 25.668001868524662, 25.76983387353381, 25.905742221953535, 25.63226553578137, 25.8944390395735]\n",
      "[0, 0, 0, 0, 0, 0, 0, 0, 0, 0]\n",
      "[26.199345937059046, 28.732895183821576, 26.027871661091385, 27.62959343764854, 25.872832084843544, 29.083215519781508, 27.54968411316355, 28.359545542209393, 27.589863706139095, 27.633685912919365]\n"
     ]
    }
   ],
   "source": [
    "spl_DA_piA = []\n",
    "spl_DA_piAC = []\n",
    "spl_DC_piA = [0]*10\n",
    "spl_DC_piAC = []\n",
    "\n",
    "for i in range(10):\n",
    "    spl = calculate_spl(DA_piA_pth[i])\n",
    "    spl_DA_piA.append(spl)\n",
    "    spl = calculate_spl(DA_piAC_pth[i])\n",
    "    spl_DA_piAC.append(spl)\n",
    "    spl = calculate_spl(DC_piAC_pth[i])\n",
    "    spl_DC_piAC.append(spl)\n",
    "\n",
    "print(spl_DA_piA)\n",
    "print(spl_DA_piAC)\n",
    "print(spl_DC_piA)\n",
    "print(spl_DC_piAC)"
   ]
  },
  {
   "cell_type": "code",
   "execution_count": 34,
   "metadata": {},
   "outputs": [
    {
     "data": {
      "image/png": "[encoded data removed]",
      "text/plain": [
       "<Figure size 640x480 with 1 Axes>"
      ]
     },
     "metadata": {},
     "output_type": "display_data"
    }
   ],
   "source": [
    "# plot the fig\n",
    "plt.figure()\n",
    "\n",
    "plt.scatter(23.749966886193654/np.mean(spl_DA_piA), np.mean(spl_DC_piA), color='red', marker='o', label='piA')\n",
    "plt.scatter(23.749966886193654/np.mean(spl_DA_piAC), 23.749966886193654/np.mean(spl_DC_piAC), color='blue', marker='o', label='piAC')\n",
    "\n",
    "plt.plot([0,1], [0,1], 'k--')\n",
    "\n",
    "plt.xlim(0, 1)\n",
    "plt.ylim(0, 1)\n",
    "\n",
    "plt.xlabel('DA')\n",
    "plt.ylabel('DC')\n",
    "\n",
    "plt.legend()\n",
    "plt.show()"
   ]
  }
 ],
 "metadata": {
  "kernelspec": {
   "display_name": "Python 3 (ipykernel)",
   "language": "python",
   "name": "python3"
  },
  "language_info": {
   "codemirror_mode": {
    "name": "ipython",
    "version": 3
   },
   "file_extension": ".py",
   "mimetype": "text/x-python",
   "name": "python",
   "nbconvert_exporter": "python",
   "pygments_lexer": "ipython3",
   "version": "3.8.10"
  }
 },
 "nbformat": 4,
 "nbformat_minor": 2
}
