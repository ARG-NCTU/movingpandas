{
 "cells": [
  {
   "cell_type": "markdown",
   "metadata": {},
   "source": [
    "# Ship Trajectory Prediction"
   ]
  },
  {
   "cell_type": "code",
   "execution_count": null,
   "metadata": {},
   "outputs": [],
   "source": [
    "%matplotlib inline"
   ]
  },
  {
   "cell_type": "code",
   "execution_count": null,
   "metadata": {},
   "outputs": [],
   "source": [
    "import urllib\n",
    "import os\n",
    "import numpy as np\n",
    "import pandas as pd\n",
    "import contextily as ctx\n",
    "from geopandas import GeoDataFrame, read_file\n",
    "from shapely.geometry import Point, LineString, Polygon\n",
    "from fiona.crs import from_epsg\n",
    "from datetime import datetime, timedelta\n",
    "import matplotlib.pyplot as plt\n",
    "\n",
    "import sys\n",
    "sys.path.append(\"..\")\n",
    "import movingpandas as mpd\n",
    "\n",
    "import warnings\n",
    "warnings.simplefilter(\"ignore\")"
   ]
  },
  {
   "cell_type": "code",
   "execution_count": null,
   "metadata": {},
   "outputs": [],
   "source": [
    "PAST = timedelta(minutes=2)\n",
    "FUTURE = timedelta(minutes=2)\n",
    "CRS_METRIC = from_epsg(31256)\n",
    "CRS_LATLON = from_epsg(4326)"
   ]
  },
  {
   "cell_type": "markdown",
   "metadata": {},
   "source": [
    "## Introduction"
   ]
  },
  {
   "cell_type": "markdown",
   "metadata": {},
   "source": [
    "Trajectory prediction aims to predict the future position of a vessel based on its current position and past movement.\n",
    "In contrast to other moving objects, such as land vehicles and aircraft, ships typically exhibit slow parabolic maneuvers. \n",
    "Commonly used physical model-based prediction methods include linear and kinematic prediction.\n",
    "\n",
    "**Linear prediction** assumes that the object will continue in the previously observed direction with constant speed. Direction and speed are computed between the observed trajectory segments's start and end location.\n",
    "\n",
    "**Kinematic prediction** considers the rate of change in speed (acceleration or deceleration) as well as direction. The method implemented for this work is based on Sang et al. (2016). "
   ]
  },
  {
   "cell_type": "code",
   "execution_count": null,
   "metadata": {},
   "outputs": [],
   "source": [
    "def plot_linear_and_kinetic_results(traj, futures):\n",
    "    ax = traj.plot()\n",
    "    ax = traj.df.plot(ax=ax)\n",
    "    lin_predictor = mpd.TrajectoryPredictor(traj)\n",
    "    kin_predictor = mpd.TrajectoryPredictor(traj)\n",
    "    for future in futures:\n",
    "        lin_result = lin_predictor.predict_linearly(future)\n",
    "        ax = GeoDataFrame([lin_result]).rename(columns={0:'geometry'}).plot(ax=ax, color='orange')\n",
    "        kin_result = kin_predictor.predict_kinetically(future)\n",
    "        ax = GeoDataFrame([kin_result]).rename(columns={0:'geometry'}).plot(ax=ax, color='green')\n",
    "    #print(kin_predictor.traj.df)"
   ]
  },
  {
   "cell_type": "markdown",
   "metadata": {},
   "source": [
    "### Prediction example 1: accelerating straight trajectory \n",
    "\n",
    "This example demonstrates the prediction results for an example trajectory with an observed increase in speed but without any observed change in direction. "
   ]
  },
  {
   "cell_type": "code",
   "execution_count": null,
   "metadata": {},
   "outputs": [],
   "source": [
    "df = pd.DataFrame([\n",
    "    {'geometry': Point(0.00, 0.00), 't': datetime(2018, 1, 1, 12, 0, 0)},\n",
    "    {'geometry': Point(0.01, 0.01), 't': datetime(2018, 1, 1, 12, 1, 0)},\n",
    "    {'geometry': Point(0.03, 0.03), 't': datetime(2018, 1, 1, 12, 2, 0)}\n",
    "    ]).set_index('t')\n",
    "geo_df = GeoDataFrame(df, crs=CRS_LATLON)\n",
    "straight_traj = mpd.Trajectory(geo_df, 1)\n",
    "straight_traj.add_speed()\n",
    "plot_linear_and_kinetic_results(straight_traj, [timedelta(minutes=x) for x in range(1,6)])"
   ]
  },
  {
   "cell_type": "markdown",
   "metadata": {},
   "source": [
    "### Prediction example 2: decelerating curved trajectory\n",
    "\n",
    "This example demonstrates the prediction results for a curved example trajectory with an observed decrease in speed."
   ]
  },
  {
   "cell_type": "code",
   "execution_count": null,
   "metadata": {},
   "outputs": [],
   "source": [
    "df = pd.DataFrame([\n",
    "    {'geometry': Point(0.00, 0.00), 't': datetime(2018, 1, 1, 12, 0, 0)},\n",
    "    {'geometry': Point(0.01, 0.00), 't': datetime(2018, 1, 1, 12, 0, 30)},\n",
    "    {'geometry': Point(0.02, 0.01), 't': datetime(2018, 1, 1, 12, 2, 0)},\n",
    "    {'geometry': Point(0.02, 0.02), 't': datetime(2018, 1, 1, 12, 3, 0)}\n",
    "    ]).set_index('t')\n",
    "geo_df = GeoDataFrame(df, crs=CRS_LATLON)\n",
    "curved_traj = mpd.Trajectory(geo_df, 1)\n",
    "plot_linear_and_kinetic_results(curved_traj, [timedelta(minutes=x) for x in range(1,6)])"
   ]
  },
  {
   "cell_type": "markdown",
   "metadata": {},
   "source": [
    "## Loading AIS data & creating trajectories\n",
    "\n",
    "This work uses AIS data published by the Danish Maritime Authority. The AIS record sample extracted for this work covers vessel traffic on the 5th July 2017 near Gothenburg."
   ]
  },
  {
   "cell_type": "code",
   "execution_count": null,
   "metadata": {},
   "outputs": [],
   "source": [
    "df = read_file('data/demodata_ais.gpkg')\n",
    "wgs84 = df.crs\n",
    "print(\"Finished reading {}.\".format(len(df)))"
   ]
  },
  {
   "cell_type": "code",
   "execution_count": null,
   "metadata": {},
   "outputs": [],
   "source": [
    "df['t'] = pd.to_datetime(df['Timestamp'], format='%d/%m/%Y %H:%M:%S')\n",
    "df = df.set_index('t')"
   ]
  },
  {
   "cell_type": "code",
   "execution_count": null,
   "metadata": {},
   "outputs": [],
   "source": [
    "print(\"Original size: {} rows\".format(len(df)))\n",
    "df = df[df.SOG>0]\n",
    "print(\"Reduced to {} rows after removing records with speed=0.\".format(len(df)))"
   ]
  },
  {
   "cell_type": "code",
   "execution_count": null,
   "metadata": {},
   "outputs": [],
   "source": [
    "MIN_LENGTH = 100 # meters\n",
    "traj_collection = mpd.TrajectoryCollection(df, 'MMSI', MIN_LENGTH)\n",
    "print(\"Finished creating {} trajectories.\".format(len(traj_collection)))"
   ]
  },
  {
   "cell_type": "code",
   "execution_count": null,
   "metadata": {},
   "outputs": [],
   "source": [
    "time_gap_to_split = timedelta(minutes=5)\n",
    "trips = traj_collection.split_by_observation_gap(time_gap_to_split)\n",
    "print(\"Extracted {} individual trips from {} continuous vessel tracks based on a time gap of {}.\".format(len(trips), len(traj_collection), time_gap_to_split))"
   ]
  },
  {
   "cell_type": "code",
   "execution_count": null,
   "metadata": {},
   "outputs": [],
   "source": [
    "#trips.plot(with_basemap=True, figsize=(12,9), linewidth=1, capstyle='round')"
   ]
  },
  {
   "cell_type": "markdown",
   "metadata": {},
   "source": [
    "## Sampling"
   ]
  },
  {
   "cell_type": "code",
   "execution_count": null,
   "metadata": {},
   "outputs": [],
   "source": [
    "sampler = mpd.TrajectoryCollectionSampler(traj_collection)"
   ]
  },
  {
   "cell_type": "code",
   "execution_count": null,
   "metadata": {},
   "outputs": [],
   "source": [
    "samples = sampler.get_sample(PAST, FUTURE, randomize=True, fixed_seed=10)\n",
    "print(\"Extracted {} samples.\".format(len(samples)))"
   ]
  },
  {
   "cell_type": "code",
   "execution_count": null,
   "metadata": {},
   "outputs": [],
   "source": [
    "trajs = [sample.past_traj for sample in samples]\n",
    "sample_collection = mpd.TrajectoryCollection(trajs)\n",
    "sample_collection.plot(with_basemap=True, figsize=(12,9), linewidth=1, capstyle='round')"
   ]
  },
  {
   "cell_type": "markdown",
   "metadata": {},
   "source": [
    "## Linear prediction"
   ]
  },
  {
   "cell_type": "code",
   "execution_count": null,
   "metadata": {},
   "outputs": [],
   "source": [
    "def get_predictions(trajs, linearly=True):\n",
    "    predictions = []\n",
    "    for traj in trajs:\n",
    "        predictor = mpd.TrajectoryPredictor(traj)\n",
    "        if linearly:\n",
    "            result = predictor.predict_linearly(FUTURE)\n",
    "        else:\n",
    "            try:\n",
    "                result = predictor.predict_kinetically(FUTURE)\n",
    "            except:\n",
    "                result = None\n",
    "        predictions.append(result)\n",
    "    return predictions\n",
    "\n",
    "predictions = get_predictions(trajs)\n",
    "\n",
    "predictions = GeoDataFrame(pd.DataFrame(predictions), crs=trajs[0].crs).rename(columns={0:'geometry'})"
   ]
  },
  {
   "cell_type": "markdown",
   "metadata": {},
   "source": [
    "### Comparison of prediction and ground truth"
   ]
  },
  {
   "cell_type": "code",
   "execution_count": null,
   "metadata": {},
   "outputs": [],
   "source": [
    "future_pos = [sample.future_pos for sample in samples]\n",
    "future_pos = GeoDataFrame(pd.DataFrame(future_pos), crs=trajs[0].crs).rename(columns={0:'geometry'})\n",
    "future_traj = [sample.future_traj for sample in samples]\n",
    "future_traj = mpd.TrajectoryCollection(future_traj)"
   ]
  },
  {
   "cell_type": "code",
   "execution_count": null,
   "metadata": {},
   "outputs": [],
   "source": [
    "ax = predictions.to_crs(epsg=3857).plot(figsize=(12,9), color='red')\n",
    "ax = future_pos.to_crs(epsg=3857).plot(ax=ax, color='green')\n",
    "ctx.add_basemap(ax, url=ctx.sources.ST_TERRAIN)\n",
    "ax = future_traj.plot(ax=ax, for_basemap=True, linewidth=1, color='green')\n",
    "sample_collection.plot(ax=ax, for_basemap=True, linewidth=3, capstyle='round')"
   ]
  },
  {
   "cell_type": "markdown",
   "metadata": {},
   "source": [
    "## Kinetic prediction"
   ]
  },
  {
   "cell_type": "code",
   "execution_count": null,
   "metadata": {},
   "outputs": [],
   "source": []
  },
  {
   "cell_type": "markdown",
   "metadata": {},
   "source": [
    "## Evaluation of linear & kinetic prediction"
   ]
  },
  {
   "cell_type": "code",
   "execution_count": null,
   "metadata": {},
   "outputs": [],
   "source": [
    "PAST = timedelta(seconds=60)\n",
    "FUTURES = [timedelta(minutes=x) for x in range(1,6)]"
   ]
  },
  {
   "cell_type": "code",
   "execution_count": null,
   "metadata": {},
   "outputs": [],
   "source": [
    "def evaluate(samples, predictions):\n",
    "    errors = []\n",
    "    for i, sample in enumerate(samples):\n",
    "        if predictions[i]:\n",
    "            evaluator = mpd.TrajectoryPredictionEvaluator(sample, predictions[i], CRS_METRIC, CRS_LATLON)\n",
    "            errors.append(evaluator.get_distance_error())    \n",
    "    return errors\n",
    "\n",
    "def compute_distance_errors(future):\n",
    "    samples = sampler.get_sample(PAST, future, randomize=True, fixed_seed=10)\n",
    "    trajs = [sample.past_traj for sample in samples]\n",
    "    \n",
    "    linear_predictions = get_predictions(trajs)\n",
    "    kinetic_predictions = get_predictions(trajs, linearly=False)\n",
    "    \n",
    "    lin_errors = evaluate(samples, linear_predictions)\n",
    "    kin_errors = evaluate(samples, kinetic_predictions)\n",
    "        \n",
    "    return np.array(lin_errors), np.array(kin_errors)"
   ]
  },
  {
   "cell_type": "code",
   "execution_count": null,
   "metadata": {},
   "outputs": [],
   "source": [
    "lin_errors = []\n",
    "kin_errors = []\n",
    "\n",
    "for future in FUTURES:\n",
    "    e_lin, e_kin = compute_distance_errors(future)\n",
    "    lin_errors.append(np.median(e_lin))\n",
    "    print(\"Linear prediction for {} - median distance error {} (n={})\".format(future, round(np.median(e_lin), 1), len(e_lin)))\n",
    "    kin_errors.append(np.median(e_kin))\n",
    "    print(\"Kinetic prediction for {} - median distance error {} (n={})\".format(future, round(np.median(e_kin), 1), len(e_kin)))"
   ]
  },
  {
   "cell_type": "code",
   "execution_count": null,
   "metadata": {},
   "outputs": [],
   "source": [
    "ax = plt.plot(lin_errors)\n",
    "ax = plt.plot(kin_errors, color='red')"
   ]
  },
  {
   "cell_type": "markdown",
   "metadata": {},
   "source": [
    "**References**\n",
    "* Sang, L. Z., Yan, X. P., Wall, A., Wang, J., & Mao, Z. (2016). CPA calculation method based on AIS position prediction. The Journal of Navigation, 69(6), 1409-1426."
   ]
  },
  {
   "cell_type": "code",
   "execution_count": null,
   "metadata": {},
   "outputs": [],
   "source": []
  }
 ],
 "metadata": {
  "kernelspec": {
   "display_name": "Python 3",
   "language": "python",
   "name": "python3"
  },
  "language_info": {
   "codemirror_mode": {
    "name": "ipython",
    "version": 3
   },
   "file_extension": ".py",
   "mimetype": "text/x-python",
   "name": "python",
   "nbconvert_exporter": "python",
   "pygments_lexer": "ipython3",
   "version": "3.7.3"
  }
 },
 "nbformat": 4,
 "nbformat_minor": 4
}
