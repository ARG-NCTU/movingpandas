{
 "cells": [
  {
   "cell_type": "markdown",
   "id": "61b3520d",
   "metadata": {},
   "source": [
    "# pyivp.XYPatternBlock\n",
    "\n",
    "> API details."
   ]
  },
  {
   "cell_type": "markdown",
   "id": "34f5c658",
   "metadata": {},
   "source": [
    "## Run python library in Jupyter Notebook"
   ]
  },
  {
   "cell_type": "code",
   "execution_count": 2,
   "id": "6a01dea2",
   "metadata": {},
   "outputs": [],
   "source": [
    "import pyivp"
   ]
  },
  {
   "cell_type": "markdown",
   "id": "502f733c",
   "metadata": {},
   "source": [
    "### XYPoint\n",
    "create a XYPoint object v1"
   ]
  },
  {
   "cell_type": "code",
   "execution_count": 3,
   "id": "2f49a0b1",
   "metadata": {},
   "outputs": [],
   "source": [
    "v1 = pyivp.XYPoint(35, 30)"
   ]
  },
  {
   "cell_type": "markdown",
   "id": "856ab204",
   "metadata": {},
   "source": [
    "### XYPattenBlock\n",
    "create a XYPatternBlock object py_block, and add ID point v1"
   ]
  },
  {
   "cell_type": "code",
   "execution_count": 4,
   "id": "33238ef6",
   "metadata": {},
   "outputs": [],
   "source": [
    "py_block = pyivp.XYPatternBlock()\n",
    "py_block.add_idpoint(v1)"
   ]
  },
  {
   "cell_type": "markdown",
   "id": "f4b0c0af",
   "metadata": {},
   "source": [
    "you can set 5 parameters :  \n",
    "1. block width \n",
    "2. block length \n",
    "3. swath width\n",
    "4. angle \n",
    "5. id point"
   ]
  },
  {
   "cell_type": "code",
   "execution_count": 5,
   "id": "c46c9d19",
   "metadata": {},
   "outputs": [
    {
     "data": {
      "text/plain": [
       "True"
      ]
     },
     "execution_count": 5,
     "metadata": {},
     "output_type": "execute_result"
    }
   ],
   "source": [
    "py_block.set_param(\"block_width\", 50)"
   ]
  },
  {
   "cell_type": "code",
   "execution_count": 6,
   "id": "cdf73d12",
   "metadata": {},
   "outputs": [],
   "source": [
    "points = py_block.get_lane_points()\n",
    "for point in points:\n",
    "    print(point.get_spec(\"\"))"
   ]
  },
  {
   "cell_type": "code",
   "execution_count": 7,
   "id": "5df0756e",
   "metadata": {},
   "outputs": [],
   "source": [
    "seglist = py_block.get_lane_segments()\n",
    "for seg in seglist:\n",
    "    print(seg.get_spec(\"\"))"
   ]
  },
  {
   "cell_type": "markdown",
   "id": "ed7c4c0b",
   "metadata": {},
   "source": [
    "### 2 distance functions"
   ]
  },
  {
   "cell_type": "code",
   "execution_count": 8,
   "id": "1c3bfaca",
   "metadata": {},
   "outputs": [
    {
     "name": "stdout",
     "output_type": "stream",
     "text": [
      "distance_to_closestentry(self: pyivp.XYPatternBlock, osx: float, osy: float, any_segment: bool) -> float\n",
      "\n",
      "By default, any_segment is set to true and the shortest distance is calculated by considering the endpoints of ANY of the lane segments. If any_segment is false, only the first,last (or outer) lane segments are considered.\n",
      "\n",
      "Inputs : \n",
      "osx : x coordinate of the target.\n",
      "osy : y coordinate of the target.\n",
      "\n",
      "Returns : \n",
      "-1 (if there are any problems) or Distance to the shortest entry point.\n",
      "\n"
     ]
    }
   ],
   "source": [
    "print(py_block.distance_to_closestentry.__doc__)"
   ]
  },
  {
   "cell_type": "code",
   "execution_count": 9,
   "id": "4c4db436",
   "metadata": {},
   "outputs": [
    {
     "name": "stdout",
     "output_type": "stream",
     "text": [
      "distance_to_crossaxis(self: pyivp.XYPatternBlock, osx: float, osy: float) -> float\n",
      "\n",
      "This function will calculate the distance between target and cross axis.\n",
      "\n",
      "Inputs : \n",
      "osx : x coordinate of the target.\n",
      "osy : y coordinate of the target.\n",
      "\n",
      "Returns : \n",
      "-1 (if there are any problems) or Distance to the cross axis.\n",
      "\n"
     ]
    }
   ],
   "source": [
    "print(py_block.distance_to_crossaxis.__doc__)"
   ]
  },
  {
   "cell_type": "code",
   "execution_count": 10,
   "id": "5d6cb912",
   "metadata": {},
   "outputs": [
    {
     "name": "stdout",
     "output_type": "stream",
     "text": [
      "distance to entry : 44.72135954999579 \n",
      "distance to cross axis : 20.0\n"
     ]
    }
   ],
   "source": [
    "dist_entry = py_block.distance_to_closestentry(osx = 30, osy = -50, any_segment = True)\n",
    "dist_crossAxis = py_block.distance_to_crossaxis(osx = 30, osy = 50)\n",
    "print(f'distance to entry : {dist_entry} \\ndistance to cross axis : {dist_crossAxis}')"
   ]
  },
  {
   "cell_type": "code",
   "execution_count": 11,
   "id": "db181080",
   "metadata": {},
   "outputs": [],
   "source": [
    "py_block.build_composite_seglist(30,30)"
   ]
  },
  {
   "cell_type": "markdown",
   "id": "f5ce6a35",
   "metadata": {},
   "source": [
    "s1 is a XYSegList object"
   ]
  },
  {
   "cell_type": "code",
   "execution_count": 12,
   "id": "7bd745d3",
   "metadata": {},
   "outputs": [
    {
     "data": {
      "text/plain": [
       "'pts={10,-10:10,70:20,70:20,-10:30,-10:30,70:40,70:40,-10:50,-10:50,70:60,70:60,-10},tags={0:1:lane#2:3:lane#4:5:lane#6:7:lane#8:9:lane#10:11:lane}'"
      ]
     },
     "execution_count": 12,
     "metadata": {},
     "output_type": "execute_result"
    }
   ],
   "source": [
    "s1 = py_block.get_composite_seglist()\n",
    "s1.get_spec(\"\")"
   ]
  },
  {
   "cell_type": "markdown",
   "id": "aaf22485",
   "metadata": {},
   "source": [
    "## MovingPandas"
   ]
  },
  {
   "cell_type": "code",
   "execution_count": 13,
   "id": "b08ec0f1",
   "metadata": {
    "scrolled": false
   },
   "outputs": [
    {
     "name": "stdout",
     "output_type": "stream",
     "text": [
      "\n",
      "MovingPandas 0.16.0\n",
      "\n",
      "SYSTEM INFO\n",
      "-----------\n",
      "python     : 3.8.10 (default, Jun 22 2022, 20:18:18)  [GCC 9.4.0]\n",
      "executable : /usr/bin/python3\n",
      "machine    : Linux-5.15.0-69-generic-x86_64-with-glibc2.29\n",
      "\n",
      "GEOS, GDAL, PROJ INFO\n",
      "---------------------\n",
      "GEOS       : None\n",
      "GEOS lib   : None\n",
      "GDAL       : 3.5.3\n",
      "GDAL data dir: /usr/local/lib/python3.8/dist-packages/fiona/gdal_data\n",
      "PROJ       : 9.2.0\n",
      "PROJ data dir: /usr/local/lib/python3.8/dist-packages/pyproj/proj_dir/share/proj\n",
      "\n",
      "PYTHON DEPENDENCIES\n",
      "-------------------\n",
      "geopandas  : 0.13.0\n",
      "pandas     : 1.5.3\n",
      "fiona      : 1.9.3\n",
      "numpy      : 1.24.1\n",
      "shapely    : 2.0.1\n",
      "rtree      : 1.0.1\n",
      "pyproj     : 3.5.0\n",
      "matplotlib : 3.6.3\n",
      "mapclassify: None\n",
      "geopy      : 2.3.0\n",
      "holoviews  : 1.16.0\n",
      "hvplot     : 0.8.3\n",
      "geoviews   : 1.9.6\n",
      "stonesoup  : None\n"
     ]
    }
   ],
   "source": [
    "import pyivp\n",
    "import pandas as pd\n",
    "from geopandas import GeoDataFrame, read_file\n",
    "from shapely.geometry import Point\n",
    "from datetime import datetime, timedelta\n",
    "from matplotlib import pyplot as plt\n",
    "\n",
    "import sys\n",
    "sys.path.append(\"../\")\n",
    "import movingpandas as mpd\n",
    "mpd.show_versions()\n",
    "\n",
    "# import warnings\n",
    "# warnings.simplefilter(\"ignore\")"
   ]
  },
  {
   "cell_type": "code",
   "execution_count": 14,
   "id": "492aa297",
   "metadata": {},
   "outputs": [],
   "source": [
    "block = pyivp.XYPatternBlock()"
   ]
  },
  {
   "cell_type": "code",
   "execution_count": 15,
   "id": "e1345c0b",
   "metadata": {},
   "outputs": [],
   "source": [
    "mid_point = pyivp.XYPoint(50,50)"
   ]
  },
  {
   "cell_type": "code",
   "execution_count": 16,
   "id": "b71ece74",
   "metadata": {},
   "outputs": [],
   "source": [
    "block.add_idpoint(mid_point)"
   ]
  },
  {
   "cell_type": "code",
   "execution_count": 17,
   "id": "93525b65",
   "metadata": {},
   "outputs": [],
   "source": [
    "block.build_composite_seglist(30,30)\n",
    "point_seglist = block.get_composite_seglist()"
   ]
  },
  {
   "cell_type": "code",
   "execution_count": 18,
   "id": "fd4d9c3c",
   "metadata": {},
   "outputs": [],
   "source": [
    "# get points' information from XYSeglist\n",
    "point_list = point_seglist.get_spec_pts()\n",
    "start = point_list.find('{')\n",
    "end = point_list.find('}')\n",
    "point_list = point_list[start+1:end].split(\":\")\n",
    "for i, v in enumerate(point_list):\n",
    "    x, y = v.split(',')\n",
    "    point_list[i] = [int(x),int(y)]"
   ]
  },
  {
   "cell_type": "code",
   "execution_count": 19,
   "id": "ac949b16",
   "metadata": {
    "scrolled": false
   },
   "outputs": [
    {
     "data": {
      "text/html": [
       "<div>\n",
       "<style scoped>\n",
       "    .dataframe tbody tr th:only-of-type {\n",
       "        vertical-align: middle;\n",
       "    }\n",
       "\n",
       "    .dataframe tbody tr th {\n",
       "        vertical-align: top;\n",
       "    }\n",
       "\n",
       "    .dataframe thead th {\n",
       "        text-align: right;\n",
       "    }\n",
       "</style>\n",
       "<table border=\"1\" class=\"dataframe\">\n",
       "  <thead>\n",
       "    <tr style=\"text-align: right;\">\n",
       "      <th></th>\n",
       "      <th>geometry</th>\n",
       "    </tr>\n",
       "    <tr>\n",
       "      <th>t</th>\n",
       "      <th></th>\n",
       "    </tr>\n",
       "  </thead>\n",
       "  <tbody>\n",
       "    <tr>\n",
       "      <th>2018-01-01 12:00:00</th>\n",
       "      <td>POINT (30.000 10.000)</td>\n",
       "    </tr>\n",
       "    <tr>\n",
       "      <th>2018-01-01 12:06:00</th>\n",
       "      <td>POINT (30.000 90.000)</td>\n",
       "    </tr>\n",
       "    <tr>\n",
       "      <th>2018-01-01 12:10:00</th>\n",
       "      <td>POINT (40.000 90.000)</td>\n",
       "    </tr>\n",
       "    <tr>\n",
       "      <th>2018-01-01 12:15:00</th>\n",
       "      <td>POINT (40.000 10.000)</td>\n",
       "    </tr>\n",
       "    <tr>\n",
       "      <th>2018-01-01 12:20:00</th>\n",
       "      <td>POINT (50.000 10.000)</td>\n",
       "    </tr>\n",
       "    <tr>\n",
       "      <th>2018-01-01 12:25:00</th>\n",
       "      <td>POINT (50.000 90.000)</td>\n",
       "    </tr>\n",
       "    <tr>\n",
       "      <th>2018-01-01 12:30:00</th>\n",
       "      <td>POINT (60.000 90.000)</td>\n",
       "    </tr>\n",
       "    <tr>\n",
       "      <th>2018-01-01 12:35:00</th>\n",
       "      <td>POINT (60.000 10.000)</td>\n",
       "    </tr>\n",
       "    <tr>\n",
       "      <th>2018-01-01 12:40:00</th>\n",
       "      <td>POINT (70.000 10.000)</td>\n",
       "    </tr>\n",
       "    <tr>\n",
       "      <th>2018-01-01 12:45:00</th>\n",
       "      <td>POINT (70.000 90.000)</td>\n",
       "    </tr>\n",
       "  </tbody>\n",
       "</table>\n",
       "</div>"
      ],
      "text/plain": [
       "                                  geometry\n",
       "t                                         \n",
       "2018-01-01 12:00:00  POINT (30.000 10.000)\n",
       "2018-01-01 12:06:00  POINT (30.000 90.000)\n",
       "2018-01-01 12:10:00  POINT (40.000 90.000)\n",
       "2018-01-01 12:15:00  POINT (40.000 10.000)\n",
       "2018-01-01 12:20:00  POINT (50.000 10.000)\n",
       "2018-01-01 12:25:00  POINT (50.000 90.000)\n",
       "2018-01-01 12:30:00  POINT (60.000 90.000)\n",
       "2018-01-01 12:35:00  POINT (60.000 10.000)\n",
       "2018-01-01 12:40:00  POINT (70.000 10.000)\n",
       "2018-01-01 12:45:00  POINT (70.000 90.000)"
      ]
     },
     "execution_count": 19,
     "metadata": {},
     "output_type": "execute_result"
    }
   ],
   "source": [
    "df = pd.DataFrame([\n",
    "  {'geometry':Point(point_list[0][0],point_list[0][1]), 't':datetime(2018,1,1,12,0,0)},\n",
    "  {'geometry':Point(point_list[1][0],point_list[1][1]), 't':datetime(2018,1,1,12,6,0)},\n",
    "  {'geometry':Point(point_list[2][0],point_list[2][1]), 't':datetime(2018,1,1,12,10,0)},\n",
    "  {'geometry':Point(point_list[3][0],point_list[3][1]), 't':datetime(2018,1,1,12,15,0)},\n",
    "  {'geometry':Point(point_list[4][0],point_list[4][1]), 't':datetime(2018,1,1,12,20,0)},\n",
    "  {'geometry':Point(point_list[5][0],point_list[5][1]), 't':datetime(2018,1,1,12,25,0)}, \n",
    "  {'geometry':Point(point_list[6][0],point_list[6][1]), 't':datetime(2018,1,1,12,30,0)},\n",
    "  {'geometry':Point(point_list[7][0],point_list[7][1]), 't':datetime(2018,1,1,12,35,0)},\n",
    "  {'geometry':Point(point_list[8][0],point_list[8][1]), 't':datetime(2018,1,1,12,40,0)},\n",
    "  {'geometry':Point(point_list[9][0],point_list[9][1]), 't':datetime(2018,1,1,12,45,0)},\n",
    "]).set_index('t')\n",
    "geo_df = GeoDataFrame(df, crs=31256)\n",
    "toy_traj = mpd.Trajectory(geo_df, 1)\n",
    "toy_traj.df\n"
   ]
  },
  {
   "cell_type": "code",
   "execution_count": 20,
   "id": "29f7e62e",
   "metadata": {
    "scrolled": false
   },
   "outputs": [
    {
     "data": {
      "text/html": [
       "<div>\n",
       "<style scoped>\n",
       "    .dataframe tbody tr th:only-of-type {\n",
       "        vertical-align: middle;\n",
       "    }\n",
       "\n",
       "    .dataframe tbody tr th {\n",
       "        vertical-align: top;\n",
       "    }\n",
       "\n",
       "    .dataframe thead th {\n",
       "        text-align: right;\n",
       "    }\n",
       "</style>\n",
       "<table border=\"1\" class=\"dataframe\">\n",
       "  <thead>\n",
       "    <tr style=\"text-align: right;\">\n",
       "      <th></th>\n",
       "      <th>t</th>\n",
       "      <th>prev_t</th>\n",
       "      <th>geometry</th>\n",
       "    </tr>\n",
       "  </thead>\n",
       "  <tbody>\n",
       "    <tr>\n",
       "      <th>0</th>\n",
       "      <td>2018-01-01 12:06:00</td>\n",
       "      <td>2018-01-01 12:00:00</td>\n",
       "      <td>LINESTRING (30.00000 10.00000, 30.00000 90.00000)</td>\n",
       "    </tr>\n",
       "    <tr>\n",
       "      <th>1</th>\n",
       "      <td>2018-01-01 12:10:00</td>\n",
       "      <td>2018-01-01 12:06:00</td>\n",
       "      <td>LINESTRING (30.00000 90.00000, 40.00000 90.00000)</td>\n",
       "    </tr>\n",
       "    <tr>\n",
       "      <th>2</th>\n",
       "      <td>2018-01-01 12:15:00</td>\n",
       "      <td>2018-01-01 12:10:00</td>\n",
       "      <td>LINESTRING (40.00000 90.00000, 40.00000 10.00000)</td>\n",
       "    </tr>\n",
       "    <tr>\n",
       "      <th>3</th>\n",
       "      <td>2018-01-01 12:20:00</td>\n",
       "      <td>2018-01-01 12:15:00</td>\n",
       "      <td>LINESTRING (40.00000 10.00000, 50.00000 10.00000)</td>\n",
       "    </tr>\n",
       "    <tr>\n",
       "      <th>4</th>\n",
       "      <td>2018-01-01 12:25:00</td>\n",
       "      <td>2018-01-01 12:20:00</td>\n",
       "      <td>LINESTRING (50.00000 10.00000, 50.00000 90.00000)</td>\n",
       "    </tr>\n",
       "    <tr>\n",
       "      <th>5</th>\n",
       "      <td>2018-01-01 12:30:00</td>\n",
       "      <td>2018-01-01 12:25:00</td>\n",
       "      <td>LINESTRING (50.00000 90.00000, 60.00000 90.00000)</td>\n",
       "    </tr>\n",
       "    <tr>\n",
       "      <th>6</th>\n",
       "      <td>2018-01-01 12:35:00</td>\n",
       "      <td>2018-01-01 12:30:00</td>\n",
       "      <td>LINESTRING (60.00000 90.00000, 60.00000 10.00000)</td>\n",
       "    </tr>\n",
       "    <tr>\n",
       "      <th>7</th>\n",
       "      <td>2018-01-01 12:40:00</td>\n",
       "      <td>2018-01-01 12:35:00</td>\n",
       "      <td>LINESTRING (60.00000 10.00000, 70.00000 10.00000)</td>\n",
       "    </tr>\n",
       "    <tr>\n",
       "      <th>8</th>\n",
       "      <td>2018-01-01 12:45:00</td>\n",
       "      <td>2018-01-01 12:40:00</td>\n",
       "      <td>LINESTRING (70.00000 10.00000, 70.00000 90.00000)</td>\n",
       "    </tr>\n",
       "  </tbody>\n",
       "</table>\n",
       "</div>"
      ],
      "text/plain": [
       "                    t              prev_t  \\\n",
       "0 2018-01-01 12:06:00 2018-01-01 12:00:00   \n",
       "1 2018-01-01 12:10:00 2018-01-01 12:06:00   \n",
       "2 2018-01-01 12:15:00 2018-01-01 12:10:00   \n",
       "3 2018-01-01 12:20:00 2018-01-01 12:15:00   \n",
       "4 2018-01-01 12:25:00 2018-01-01 12:20:00   \n",
       "5 2018-01-01 12:30:00 2018-01-01 12:25:00   \n",
       "6 2018-01-01 12:35:00 2018-01-01 12:30:00   \n",
       "7 2018-01-01 12:40:00 2018-01-01 12:35:00   \n",
       "8 2018-01-01 12:45:00 2018-01-01 12:40:00   \n",
       "\n",
       "                                            geometry  \n",
       "0  LINESTRING (30.00000 10.00000, 30.00000 90.00000)  \n",
       "1  LINESTRING (30.00000 90.00000, 40.00000 90.00000)  \n",
       "2  LINESTRING (40.00000 90.00000, 40.00000 10.00000)  \n",
       "3  LINESTRING (40.00000 10.00000, 50.00000 10.00000)  \n",
       "4  LINESTRING (50.00000 10.00000, 50.00000 90.00000)  \n",
       "5  LINESTRING (50.00000 90.00000, 60.00000 90.00000)  \n",
       "6  LINESTRING (60.00000 90.00000, 60.00000 10.00000)  \n",
       "7  LINESTRING (60.00000 10.00000, 70.00000 10.00000)  \n",
       "8  LINESTRING (70.00000 10.00000, 70.00000 90.00000)  "
      ]
     },
     "execution_count": 20,
     "metadata": {},
     "output_type": "execute_result"
    }
   ],
   "source": [
    "toy_traj.to_line_gdf()"
   ]
  },
  {
   "cell_type": "code",
   "execution_count": 21,
   "id": "6633f2a6",
   "metadata": {},
   "outputs": [
    {
     "data": {
      "text/html": [
       "<div>\n",
       "<style scoped>\n",
       "    .dataframe tbody tr th:only-of-type {\n",
       "        vertical-align: middle;\n",
       "    }\n",
       "\n",
       "    .dataframe tbody tr th {\n",
       "        vertical-align: top;\n",
       "    }\n",
       "\n",
       "    .dataframe thead th {\n",
       "        text-align: right;\n",
       "    }\n",
       "</style>\n",
       "<table border=\"1\" class=\"dataframe\">\n",
       "  <thead>\n",
       "    <tr style=\"text-align: right;\">\n",
       "      <th></th>\n",
       "      <th>traj_id</th>\n",
       "      <th>start_t</th>\n",
       "      <th>end_t</th>\n",
       "      <th>geometry</th>\n",
       "      <th>length</th>\n",
       "      <th>direction</th>\n",
       "      <th>wkt</th>\n",
       "    </tr>\n",
       "  </thead>\n",
       "  <tbody>\n",
       "    <tr>\n",
       "      <th>0</th>\n",
       "      <td>1</td>\n",
       "      <td>2018-01-01 12:00:00</td>\n",
       "      <td>2018-01-01 12:45:00</td>\n",
       "      <td>LINESTRING (30.000 10.000, 30.000 90.000, 40.0...</td>\n",
       "      <td>440.0</td>\n",
       "      <td>26.565051</td>\n",
       "      <td>LINESTRING M (30.0 10.0 1514808000.0, 30.0 90....</td>\n",
       "    </tr>\n",
       "  </tbody>\n",
       "</table>\n",
       "</div>"
      ],
      "text/plain": [
       "   traj_id             start_t               end_t  \\\n",
       "0        1 2018-01-01 12:00:00 2018-01-01 12:45:00   \n",
       "\n",
       "                                            geometry  length  direction  \\\n",
       "0  LINESTRING (30.000 10.000, 30.000 90.000, 40.0...   440.0  26.565051   \n",
       "\n",
       "                                                 wkt  \n",
       "0  LINESTRING M (30.0 10.0 1514808000.0, 30.0 90....  "
      ]
     },
     "execution_count": 21,
     "metadata": {},
     "output_type": "execute_result"
    }
   ],
   "source": [
    "toy_traj.to_traj_gdf(wkt=True)"
   ]
  },
  {
   "cell_type": "code",
   "execution_count": 22,
   "id": "151d048a",
   "metadata": {},
   "outputs": [],
   "source": [
    "toy_traj.add_speed(overwrite=True)"
   ]
  },
  {
   "cell_type": "code",
   "execution_count": 25,
   "id": "009d2cc2",
   "metadata": {},
   "outputs": [
    {
     "data": {
      "text/plain": [
       "<AxesSubplot: >"
      ]
     },
     "execution_count": 25,
     "metadata": {},
     "output_type": "execute_result"
    },
    {
     "data": {
      "image/png": "[encoded data removed]",
      "text/plain": [
       "<Figure size 900x500 with 2 Axes>"
      ]
     },
     "metadata": {},
     "output_type": "display_data"
    }
   ],
   "source": [
    "toy_traj.plot(column='speed', legend=True, figsize=(9,5))"
   ]
  }
 ],
 "metadata": {
  "kernelspec": {
   "display_name": "Python 3 (ipykernel)",
   "language": "python",
   "name": "python3"
  },
  "language_info": {
   "codemirror_mode": {
    "name": "ipython",
    "version": 3
   },
   "file_extension": ".py",
   "mimetype": "text/x-python",
   "name": "python",
   "nbconvert_exporter": "python",
   "pygments_lexer": "ipython3",
   "version": "3.8.10"
  }
 },
 "nbformat": 4,
 "nbformat_minor": 5
}
