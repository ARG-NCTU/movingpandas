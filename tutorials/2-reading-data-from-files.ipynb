{
 "cells": [
  {
   "cell_type": "markdown",
   "id": "9e234c6e",
   "metadata": {},
   "source": [
    "# Reading Trajectory Data From Files"
   ]
  },
  {
   "cell_type": "code",
   "execution_count": null,
   "id": "875d404b",
   "metadata": {},
   "outputs": [],
   "source": [
    "import pandas as pd\n",
    "from geopandas import GeoDataFrame, read_file\n",
    "\n",
    "import sys\n",
    "sys.path.append(\"..\")\n",
    "import movingpandas as mpd\n",
    "print(mpd.__version__)\n",
    "\n",
    "import warnings\n",
    "#warnings.simplefilter(\"ignore\")"
   ]
  },
  {
   "cell_type": "markdown",
   "id": "9dadbd93",
   "metadata": {},
   "source": [
    "## Geopackage"
   ]
  },
  {
   "cell_type": "markdown",
   "id": "1a5e097e",
   "metadata": {},
   "source": [
    "### with DatetimeIndex"
   ]
  },
  {
   "cell_type": "code",
   "execution_count": null,
   "id": "bc49feb4",
   "metadata": {},
   "outputs": [],
   "source": [
    "%%time\n",
    "gdf = read_file('data/demodata_geolife.gpkg')\n",
    "gdf['t'] = pd.to_datetime(gdf['t'])\n",
    "gdf = gdf.set_index('t').tz_localize(None)\n",
    "traj_collection = mpd.TrajectoryCollection(gdf, 'trajectory_id')\n",
    "print(traj_collection)"
   ]
  },
  {
   "cell_type": "markdown",
   "id": "3a8df909",
   "metadata": {},
   "source": [
    "### without DatetimeIndex"
   ]
  },
  {
   "cell_type": "code",
   "execution_count": null,
   "id": "2933b417",
   "metadata": {},
   "outputs": [],
   "source": [
    "%%time\n",
    "gdf = read_file('data/demodata_geolife.gpkg')\n",
    "traj_collection = mpd.TrajectoryCollection(gdf, 'trajectory_id', t='t')\n",
    "print(traj_collection)"
   ]
  },
  {
   "cell_type": "code",
   "execution_count": null,
   "id": "b4271e9a",
   "metadata": {},
   "outputs": [],
   "source": [
    "%%time\n",
    "gdf = read_file('data/demodata_ais.gpkg')\n",
    "gdf['t'] = pd.to_datetime(gdf['Timestamp'], format='%d/%m/%Y %H:%M:%S')\n",
    "gdf = gdf[gdf.SOG>0]\n",
    "traj_collection = mpd.TrajectoryCollection(gdf, 'MMSI', min_length=100, t='t')\n",
    "print(traj_collection)"
   ]
  },
  {
   "cell_type": "markdown",
   "id": "a70b26c5",
   "metadata": {},
   "source": [
    "## CSV"
   ]
  },
  {
   "cell_type": "code",
   "execution_count": null,
   "id": "baf879b3",
   "metadata": {},
   "outputs": [],
   "source": [
    "%%time \n",
    "df = pd.read_csv('data/demodata_geolife.csv', delimiter=';')\n",
    "traj_collection = mpd.TrajectoryCollection(df, 'trajectory_id', t='t', x='X', y='Y')\n",
    "traj_collection.hvplot(title=str(traj_collection), line_width=7.0, tiles='StamenTonerBackground', frame_width=700, frame_height=400)"
   ]
  },
  {
   "cell_type": "markdown",
   "id": "8928b5a2",
   "metadata": {},
   "source": [
    "## Error Messages"
   ]
  },
  {
   "cell_type": "markdown",
   "id": "d48dbbef",
   "metadata": {},
   "source": [
    "### Missing datetime info"
   ]
  },
  {
   "cell_type": "code",
   "execution_count": null,
   "id": "a5fc4ab3",
   "metadata": {},
   "outputs": [],
   "source": [
    "gdf = read_file('data/demodata_geolife.gpkg')\n",
    "traj_collection = mpd.TrajectoryCollection(gdf, 'trajectory_id')"
   ]
  },
  {
   "cell_type": "markdown",
   "id": "c7b96cf6",
   "metadata": {},
   "source": [
    "### Missing geometry info"
   ]
  },
  {
   "cell_type": "code",
   "execution_count": null,
   "id": "073ae82e",
   "metadata": {},
   "outputs": [],
   "source": [
    "df = pd.read_csv('data/demodata_geolife.csv', delimiter=';')\n",
    "traj_collection = mpd.TrajectoryCollection(df, 'trajectory_id', t='t')"
   ]
  },
  {
   "cell_type": "markdown",
   "id": "ccaabc93",
   "metadata": {},
   "source": [
    "## Continue exploring MovingPandas\n",
    "\n",
    "1. [Getting started](1-getting-started.ipynb)\n",
    "1. [Reading data from files](2-reading-data-from-files.ipynb)\n",
    "1. [Trajectory aggregation (flow maps)](3-generalization-and-aggregation.ipynb)\n",
    "1. [Stop detection](4-stop-detection.ipynb)"
   ]
  }
 ],
 "metadata": {
  "kernelspec": {
   "display_name": "Python 3",
   "language": "python",
   "name": "python3"
  },
  "language_info": {
   "codemirror_mode": {
    "name": "ipython",
    "version": 3
   },
   "file_extension": ".py",
   "mimetype": "text/x-python",
   "name": "python",
   "nbconvert_exporter": "python",
   "pygments_lexer": "ipython3",
   "version": "3.9.4"
  }
 },
 "nbformat": 4,
 "nbformat_minor": 5
}
