{
 "cells": [
  {
   "cell_type": "markdown",
   "metadata": {},
   "source": [
    "# Getting started with MovingPanda\n",
    "\n",
    "MovingPandas provides a trajectory datatype based on GeoPandas\n",
    "\n",
    "https://github.com/anitagraser/movingpandas"
   ]
  },
  {
   "cell_type": "code",
   "execution_count": 1,
   "metadata": {},
   "outputs": [],
   "source": [
    "%matplotlib inline"
   ]
  },
  {
   "cell_type": "code",
   "execution_count": 2,
   "metadata": {},
   "outputs": [],
   "source": [
    "import urllib\n",
    "import os\n",
    "import pandas as pd\n",
    "import movingpandas as mp\n",
    "from geopandas import GeoDataFrame, read_file\n",
    "from shapely.geometry import Point, LineString, Polygon\n",
    "from datetime import datetime, timedelta"
   ]
  },
  {
   "cell_type": "markdown",
   "metadata": {},
   "source": [
    "## Creating a trajectory from scratch\n",
    "\n",
    "Trajectory objects consist of a trajectory ID and a GeoPandas GeoDataFrame with a DatetimeIndex. The data frame therefore represents the trajectory data as a Pandas time series with associated point locations (and optional further attributes)."
   ]
  },
  {
   "cell_type": "code",
   "execution_count": 3,
   "metadata": {},
   "outputs": [
    {
     "data": {
      "text/html": [
       "<div>\n",
       "<style scoped>\n",
       "    .dataframe tbody tr th:only-of-type {\n",
       "        vertical-align: middle;\n",
       "    }\n",
       "\n",
       "    .dataframe tbody tr th {\n",
       "        vertical-align: top;\n",
       "    }\n",
       "\n",
       "    .dataframe thead th {\n",
       "        text-align: right;\n",
       "    }\n",
       "</style>\n",
       "<table border=\"1\" class=\"dataframe\">\n",
       "  <thead>\n",
       "    <tr style=\"text-align: right;\">\n",
       "      <th></th>\n",
       "      <th>geometry</th>\n",
       "    </tr>\n",
       "    <tr>\n",
       "      <th>t</th>\n",
       "      <th></th>\n",
       "    </tr>\n",
       "  </thead>\n",
       "  <tbody>\n",
       "    <tr>\n",
       "      <th>2018-01-01 12:00:00</th>\n",
       "      <td>POINT (0 0)</td>\n",
       "    </tr>\n",
       "    <tr>\n",
       "      <th>2018-01-01 12:06:00</th>\n",
       "      <td>POINT (6 0)</td>\n",
       "    </tr>\n",
       "    <tr>\n",
       "      <th>2018-01-01 12:10:00</th>\n",
       "      <td>POINT (6 6)</td>\n",
       "    </tr>\n",
       "    <tr>\n",
       "      <th>2018-01-01 12:15:00</th>\n",
       "      <td>POINT (9 9)</td>\n",
       "    </tr>\n",
       "  </tbody>\n",
       "</table>\n",
       "</div>"
      ],
      "text/plain": [
       "                        geometry\n",
       "t                               \n",
       "2018-01-01 12:00:00  POINT (0 0)\n",
       "2018-01-01 12:06:00  POINT (6 0)\n",
       "2018-01-01 12:10:00  POINT (6 6)\n",
       "2018-01-01 12:15:00  POINT (9 9)"
      ]
     },
     "execution_count": 3,
     "metadata": {},
     "output_type": "execute_result"
    }
   ],
   "source": [
    "df = pd.DataFrame([\n",
    "  {'geometry':Point(0,0), 't':datetime(2018,1,1,12,0,0)},\n",
    "  {'geometry':Point(6,0), 't':datetime(2018,1,1,12,6,0)},\n",
    "  {'geometry':Point(6,6), 't':datetime(2018,1,1,12,10,0)},\n",
    "  {'geometry':Point(9,9), 't':datetime(2018,1,1,12,15,0)}\n",
    "]).set_index('t')\n",
    "geo_df = GeoDataFrame(df, crs={'init': '31256'})\n",
    "toy_traj = mp.Trajectory(1, geo_df)\n",
    "toy_traj.df"
   ]
  },
  {
   "cell_type": "code",
   "execution_count": 4,
   "metadata": {},
   "outputs": [
    {
     "name": "stdout",
     "output_type": "stream",
     "text": [
      "Trajectory 1 (2018-01-01 12:00:00 to 2018-01-01 12:15:00) | Size: 4 | Length: 16.2m\n",
      "Bounds: (0.0, 0.0, 9.0, 9.0)\n",
      "LINESTRING (0 0, 6 0, 6 6, 9 9)\n"
     ]
    }
   ],
   "source": [
    "print(toy_traj)"
   ]
  },
  {
   "cell_type": "code",
   "execution_count": 5,
   "metadata": {},
   "outputs": [
    {
     "data": {
      "text/html": [
       "<div>\n",
       "<style scoped>\n",
       "    .dataframe tbody tr th:only-of-type {\n",
       "        vertical-align: middle;\n",
       "    }\n",
       "\n",
       "    .dataframe tbody tr th {\n",
       "        vertical-align: top;\n",
       "    }\n",
       "\n",
       "    .dataframe thead th {\n",
       "        text-align: right;\n",
       "    }\n",
       "</style>\n",
       "<table border=\"1\" class=\"dataframe\">\n",
       "  <thead>\n",
       "    <tr style=\"text-align: right;\">\n",
       "      <th></th>\n",
       "      <th>geometry</th>\n",
       "      <th>prev_pt</th>\n",
       "      <th>dist_to_prev</th>\n",
       "    </tr>\n",
       "    <tr>\n",
       "      <th>t</th>\n",
       "      <th></th>\n",
       "      <th></th>\n",
       "      <th></th>\n",
       "    </tr>\n",
       "  </thead>\n",
       "  <tbody>\n",
       "    <tr>\n",
       "      <th>2018-01-01 12:00:00</th>\n",
       "      <td>POINT (0 0)</td>\n",
       "      <td>NaN</td>\n",
       "      <td>0.000000</td>\n",
       "    </tr>\n",
       "    <tr>\n",
       "      <th>2018-01-01 12:06:00</th>\n",
       "      <td>POINT (6 0)</td>\n",
       "      <td>POINT (0 0)</td>\n",
       "      <td>6.000000</td>\n",
       "    </tr>\n",
       "    <tr>\n",
       "      <th>2018-01-01 12:10:00</th>\n",
       "      <td>POINT (6 6)</td>\n",
       "      <td>POINT (6 0)</td>\n",
       "      <td>6.000000</td>\n",
       "    </tr>\n",
       "    <tr>\n",
       "      <th>2018-01-01 12:15:00</th>\n",
       "      <td>POINT (9 9)</td>\n",
       "      <td>POINT (6 6)</td>\n",
       "      <td>4.242641</td>\n",
       "    </tr>\n",
       "  </tbody>\n",
       "</table>\n",
       "</div>"
      ],
      "text/plain": [
       "                        geometry      prev_pt  dist_to_prev\n",
       "t                                                          \n",
       "2018-01-01 12:00:00  POINT (0 0)          NaN      0.000000\n",
       "2018-01-01 12:06:00  POINT (6 0)  POINT (0 0)      6.000000\n",
       "2018-01-01 12:10:00  POINT (6 6)  POINT (6 0)      6.000000\n",
       "2018-01-01 12:15:00  POINT (9 9)  POINT (6 6)      4.242641"
      ]
     },
     "execution_count": 5,
     "metadata": {},
     "output_type": "execute_result"
    }
   ],
   "source": [
    "toy_traj.df"
   ]
  },
  {
   "cell_type": "markdown",
   "metadata": {},
   "source": [
    "The notebook environment automatically plots Shapely geometry objects like the LineString returned by to_linestring() or the Point returned by get_position_at():"
   ]
  },
  {
   "cell_type": "code",
   "execution_count": 6,
   "metadata": {},
   "outputs": [
    {
     "data": {
      "image/svg+xml": [
       "<svg xmlns=\"http://www.w3.org/2000/svg\" xmlns:xlink=\"http://www.w3.org/1999/xlink\" width=\"100.0\" height=\"100.0\" viewBox=\"-0.36 -0.36 9.719999999999999 9.719999999999999\" preserveAspectRatio=\"xMinYMin meet\"><g transform=\"matrix(1,0,0,-1,0,9.0)\"><polyline fill=\"none\" stroke=\"#66cc99\" stroke-width=\"0.1944\" points=\"0.0,0.0 6.0,0.0 6.0,6.0 9.0,9.0\" opacity=\"0.8\" /></g></svg>"
      ],
      "text/plain": [
       "<shapely.geometry.linestring.LineString at 0x180e36b3160>"
      ]
     },
     "execution_count": 6,
     "metadata": {},
     "output_type": "execute_result"
    }
   ],
   "source": [
    "toy_traj.to_linestring()"
   ]
  },
  {
   "cell_type": "code",
   "execution_count": 7,
   "metadata": {},
   "outputs": [
    {
     "data": {
      "text/html": [
       "<div>\n",
       "<style scoped>\n",
       "    .dataframe tbody tr th:only-of-type {\n",
       "        vertical-align: middle;\n",
       "    }\n",
       "\n",
       "    .dataframe tbody tr th {\n",
       "        vertical-align: top;\n",
       "    }\n",
       "\n",
       "    .dataframe thead th {\n",
       "        text-align: right;\n",
       "    }\n",
       "</style>\n",
       "<table border=\"1\" class=\"dataframe\">\n",
       "  <thead>\n",
       "    <tr style=\"text-align: right;\">\n",
       "      <th></th>\n",
       "      <th>geometry</th>\n",
       "      <th>prev_pt</th>\n",
       "      <th>dist_to_prev</th>\n",
       "      <th>delta_t</th>\n",
       "      <th>speed</th>\n",
       "    </tr>\n",
       "    <tr>\n",
       "      <th>t</th>\n",
       "      <th></th>\n",
       "      <th></th>\n",
       "      <th></th>\n",
       "      <th></th>\n",
       "      <th></th>\n",
       "    </tr>\n",
       "  </thead>\n",
       "  <tbody>\n",
       "    <tr>\n",
       "      <th>2018-01-01 12:00:00</th>\n",
       "      <td>POINT (0 0)</td>\n",
       "      <td>NaN</td>\n",
       "      <td>0.000000</td>\n",
       "      <td>NaT</td>\n",
       "      <td>0.016667</td>\n",
       "    </tr>\n",
       "    <tr>\n",
       "      <th>2018-01-01 12:06:00</th>\n",
       "      <td>POINT (6 0)</td>\n",
       "      <td>POINT (0 0)</td>\n",
       "      <td>6.000000</td>\n",
       "      <td>00:06:00</td>\n",
       "      <td>0.016667</td>\n",
       "    </tr>\n",
       "    <tr>\n",
       "      <th>2018-01-01 12:10:00</th>\n",
       "      <td>POINT (6 6)</td>\n",
       "      <td>POINT (6 0)</td>\n",
       "      <td>6.000000</td>\n",
       "      <td>00:04:00</td>\n",
       "      <td>0.025000</td>\n",
       "    </tr>\n",
       "    <tr>\n",
       "      <th>2018-01-01 12:15:00</th>\n",
       "      <td>POINT (9 9)</td>\n",
       "      <td>POINT (6 6)</td>\n",
       "      <td>4.242641</td>\n",
       "      <td>00:05:00</td>\n",
       "      <td>0.014142</td>\n",
       "    </tr>\n",
       "  </tbody>\n",
       "</table>\n",
       "</div>"
      ],
      "text/plain": [
       "                        geometry      prev_pt  dist_to_prev  delta_t     speed\n",
       "t                                                                             \n",
       "2018-01-01 12:00:00  POINT (0 0)          NaN      0.000000      NaT  0.016667\n",
       "2018-01-01 12:06:00  POINT (6 0)  POINT (0 0)      6.000000 00:06:00  0.016667\n",
       "2018-01-01 12:10:00  POINT (6 6)  POINT (6 0)      6.000000 00:04:00  0.025000\n",
       "2018-01-01 12:15:00  POINT (9 9)  POINT (6 6)      4.242641 00:05:00  0.014142"
      ]
     },
     "execution_count": 7,
     "metadata": {},
     "output_type": "execute_result"
    }
   ],
   "source": [
    "toy_traj.add_speed()\n",
    "toy_traj.df"
   ]
  },
  {
   "cell_type": "code",
   "execution_count": 8,
   "metadata": {},
   "outputs": [
    {
     "data": {
      "text/plain": [
       "<matplotlib.axes._subplots.AxesSubplot at 0x180e363a6a0>"
      ]
     },
     "execution_count": 8,
     "metadata": {},
     "output_type": "execute_result"
    },
    {
     "data": {
      "image/png": "[encoded data removed]",
      "text/plain": [
       "<Figure size 432x288 with 1 Axes>"
      ]
     },
     "metadata": {
      "needs_background": "light"
     },
     "output_type": "display_data"
    }
   ],
   "source": [
    "toy_traj.plot(column=\"speed\")"
   ]
  },
  {
   "cell_type": "code",
   "execution_count": 9,
   "metadata": {},
   "outputs": [
    {
     "data": {
      "image/svg+xml": [
       "<svg xmlns=\"http://www.w3.org/2000/svg\" xmlns:xlink=\"http://www.w3.org/1999/xlink\" width=\"100.0\" height=\"100.0\" viewBox=\"5.0 -1.0 2.0 2.0\" preserveAspectRatio=\"xMinYMin meet\"><g transform=\"matrix(1,0,0,-1,0,0.0)\"><circle cx=\"6.0\" cy=\"0.0\" r=\"0.06\" stroke=\"#555555\" stroke-width=\"0.02\" fill=\"#66cc99\" opacity=\"0.6\" /></g></svg>"
      ],
      "text/plain": [
       "<shapely.geometry.point.Point at 0x180e363a860>"
      ]
     },
     "execution_count": 9,
     "metadata": {},
     "output_type": "execute_result"
    }
   ],
   "source": [
    "toy_traj.get_position_at(datetime(2018,1,1,12,6,0), method=\"nearest\")    "
   ]
  },
  {
   "cell_type": "code",
   "execution_count": 10,
   "metadata": {},
   "outputs": [
    {
     "name": "stdout",
     "output_type": "stream",
     "text": [
      "POINT (6 0)\n"
     ]
    }
   ],
   "source": [
    "print(toy_traj.get_position_at(datetime(2018,1,1,12,6,0), method=\"nearest\"))"
   ]
  },
  {
   "cell_type": "markdown",
   "metadata": {},
   "source": [
    "## Extracting trajectory segments based on time or geometry (i.e. clipping)\n",
    "\n",
    "First, let's extract the trajectory segment for a certain time period:"
   ]
  },
  {
   "cell_type": "code",
   "execution_count": 11,
   "metadata": {},
   "outputs": [
    {
     "name": "stdout",
     "output_type": "stream",
     "text": [
      "Trajectory 1 (2018-01-01 12:06:00 to 2018-01-01 12:10:00) | Size: 2 | Length: 6.0m\n",
      "Bounds: (6.0, 0.0, 6.0, 6.0)\n",
      "LINESTRING (6 0, 6 6)\n"
     ]
    }
   ],
   "source": [
    "print(toy_traj.get_segment_between(datetime(2018,1,1,12,6,0),datetime(2018,1,1,12,12,0)))"
   ]
  },
  {
   "cell_type": "markdown",
   "metadata": {},
   "source": [
    "Now, let's extract the trajectory segment that intersects with a given polygon:"
   ]
  },
  {
   "cell_type": "code",
   "execution_count": 12,
   "metadata": {},
   "outputs": [
    {
     "data": {
      "image/svg+xml": [
       "<svg xmlns=\"http://www.w3.org/2000/svg\" xmlns:xlink=\"http://www.w3.org/1999/xlink\" width=\"100.0\" height=\"100.0\" viewBox=\"1.4 -10.6 7.199999999999999 16.2\" preserveAspectRatio=\"xMinYMin meet\"><g transform=\"matrix(1,0,0,-1,0,-5.0)\"><path fill-rule=\"evenodd\" fill=\"#66cc99\" stroke=\"#555555\" stroke-width=\"0.324\" opacity=\"0.6\" d=\"M 2.0,-10.0 L 2.0,5.0 L 8.0,5.0 L 8.0,-10.0 L 2.0,-10.0 z\" /></g></svg>"
      ],
      "text/plain": [
       "<shapely.geometry.polygon.Polygon at 0x180e376bcc0>"
      ]
     },
     "execution_count": 12,
     "metadata": {},
     "output_type": "execute_result"
    }
   ],
   "source": [
    "xmin, xmax, ymin, ymax = 2, 8, -10, 5\n",
    "polygon = Polygon([(xmin, ymin), (xmin, ymax), (xmax, ymax), (xmax, ymin), (xmin, ymin)])\n",
    "polygon"
   ]
  },
  {
   "cell_type": "code",
   "execution_count": 13,
   "metadata": {},
   "outputs": [
    {
     "name": "stdout",
     "output_type": "stream",
     "text": [
      "Trajectory 1_0 (2018-01-01 12:02:00 to 2018-01-01 12:09:20) | Size: 3 | Length: 9.0m\n",
      "Bounds: (2.0, 0.0, 6.0, 5.0)\n",
      "LINESTRING (2 0, 6 0, 6 5)\n"
     ]
    }
   ],
   "source": [
    "intersection = toy_traj.clip(polygon)\n",
    "print(intersection[0])"
   ]
  },
  {
   "cell_type": "code",
   "execution_count": 14,
   "metadata": {},
   "outputs": [
    {
     "data": {
      "text/plain": [
       "<matplotlib.axes._subplots.AxesSubplot at 0x180e36b3240>"
      ]
     },
     "execution_count": 14,
     "metadata": {},
     "output_type": "execute_result"
    },
    {
     "data": {
      "image/png": "[encoded data removed]",
      "text/plain": [
       "<Figure size 432x288 with 1 Axes>"
      ]
     },
     "metadata": {
      "needs_background": "light"
     },
     "output_type": "display_data"
    }
   ],
   "source": [
    "intersection[0].plot()"
   ]
  },
  {
   "cell_type": "markdown",
   "metadata": {},
   "source": [
    "## Loading trajectory data from GeoPackage\n",
    "\n",
    "The MovingPandas repository contains a demo GeoPackage file that can be loaded as follows:"
   ]
  },
  {
   "cell_type": "code",
   "execution_count": 15,
   "metadata": {},
   "outputs": [],
   "source": [
    "url = 'https://github.com/anitagraser/movingpandas/raw/master/demo/demodata_geolife.gpkg'\n",
    "filename = url.split('/')[-1] \n",
    "\n",
    "response = urllib.request.urlopen(url)\n",
    "content = response.read()\n",
    "with open(filename, 'wb' ) as f:\n",
    "    f.write( content )\n"
   ]
  },
  {
   "cell_type": "code",
   "execution_count": 16,
   "metadata": {},
   "outputs": [],
   "source": [
    "assert(os.path.exists(filename))"
   ]
  },
  {
   "cell_type": "markdown",
   "metadata": {},
   "source": [
    "Now, we can use GeoPandas' read_file() function to read the GeoPackage and construct the Trajectories:"
   ]
  },
  {
   "cell_type": "code",
   "execution_count": 17,
   "metadata": {},
   "outputs": [
    {
     "name": "stdout",
     "output_type": "stream",
     "text": [
      "Finished reading 5908 rows in 0:00:00.332303\n",
      "Trajectory 1 (2008-12-11 04:42:14+00:00 to 2008-12-11 05:15:46+00:00) | Size: 466 | Length: 6210.1m\n",
      "Bounds: (116.385602, 39.862378, 116.393553, 39.898723)\n",
      "LINESTRING (116.391305 39.898573, 116.391317 39.898617, 116.390928 39.898613, 116.390833 39.898635, \n",
      "Trajectory 2 (2009-06-29 07:02:25+00:00 to 2009-06-29 11:13:12+00:00) | Size: 897 | Length: 38728.7m\n",
      "Bounds: (116.319212, 39.971703, 116.592616, 40.082514)\n",
      "LINESTRING (116.590957 40.071961, 116.590905 40.072007, 116.590879 40.072027, 116.590915 40.072004, \n",
      "Trajectory 3 (2009-02-04 04:32:53+00:00 to 2009-02-04 11:20:12+00:00) | Size: 1810 | Length: 12739.2m\n",
      "Bounds: (116.332706, 39.897023, 116.387307, 39.927949)\n",
      "LINESTRING (116.385689 39.899773, 116.385654 39.899651, 116.385548 39.899699, 116.385527 39.899632, \n",
      "Trajectory 4 (2009-03-10 10:36:45+00:00 to 2009-03-10 12:01:07+00:00) | Size: 1864 | Length: 14357.6m\n",
      "Bounds: (116.327347, 39.896671, 116.389611, 39.927947)\n",
      "LINESTRING (116.388053 39.903418, 116.388042 39.9035, 116.388035 39.903467, 116.388061 39.903541, 11\n",
      "Trajectory 5 (2009-02-25 09:47:03+00:00 to 2009-02-25 14:31:24+00:00) | Size: 871 | Length: 39289.3m\n",
      "Bounds: (116.294527, 39.89825, 116.38552, 40.052399)\n",
      "LINESTRING (116.385256 39.90027, 116.38525 39.900222, 116.385374 39.900249, 116.385368 39.900264, 11\n",
      "Finished creating 5 trajectories in 0:00:01.502718\n"
     ]
    }
   ],
   "source": [
    "t_start = datetime.now()\n",
    "df = read_file(filename)\n",
    "df['t'] = pd.to_datetime(df['t'])\n",
    "df = df.set_index('t')\n",
    "print(\"Finished reading {} rows in {}\".format(len(df),datetime.now() - t_start))\n",
    "\n",
    "t_start = datetime.now()\n",
    "trajectories = []\n",
    "for key, values in df.groupby(['trajectory_id']):\n",
    "    trajectory = mp.Trajectory(key, values)\n",
    "    print(trajectory)\n",
    "    trajectories.append(trajectory)\n",
    "print(\"Finished creating {} trajectories in {}\".format(len(trajectories),datetime.now() - t_start))"
   ]
  },
  {
   "cell_type": "markdown",
   "metadata": {},
   "source": [
    "Let's look at one of those trajectories:"
   ]
  },
  {
   "cell_type": "code",
   "execution_count": 18,
   "metadata": {},
   "outputs": [
    {
     "data": {
      "text/plain": [
       "<matplotlib.axes._subplots.AxesSubplot at 0x180e489bcc0>"
      ]
     },
     "execution_count": 18,
     "metadata": {},
     "output_type": "execute_result"
    },
    {
     "data": {
      "image/png": "[encoded data removed]",
      "text/plain": [
       "<Figure size 432x288 with 1 Axes>"
      ]
     },
     "metadata": {
      "needs_background": "light"
     },
     "output_type": "display_data"
    }
   ],
   "source": [
    "trajectories[1].plot(column='speed')"
   ]
  },
  {
   "cell_type": "code",
   "execution_count": 19,
   "metadata": {},
   "outputs": [
    {
     "ename": "AttributeError",
     "evalue": "'Trajectory' object has no attribute 'plot_with_basemap'",
     "output_type": "error",
     "traceback": [
      "\u001b[1;31m---------------------------------------------------------------------------\u001b[0m",
      "\u001b[1;31mAttributeError\u001b[0m                            Traceback (most recent call last)",
      "\u001b[1;32m<ipython-input-19-78973055c289>\u001b[0m in \u001b[0;36m<module>\u001b[1;34m\u001b[0m\n\u001b[1;32m----> 1\u001b[1;33m \u001b[0mtrajectories\u001b[0m\u001b[1;33m[\u001b[0m\u001b[1;36m1\u001b[0m\u001b[1;33m]\u001b[0m\u001b[1;33m.\u001b[0m\u001b[0mplot_with_basemap\u001b[0m\u001b[1;33m(\u001b[0m\u001b[0mlinewidth\u001b[0m\u001b[1;33m=\u001b[0m\u001b[1;36m3.0\u001b[0m\u001b[1;33m,\u001b[0m \u001b[0mfigsize\u001b[0m\u001b[1;33m=\u001b[0m\u001b[1;33m(\u001b[0m\u001b[1;36m9\u001b[0m\u001b[1;33m,\u001b[0m\u001b[1;36m9\u001b[0m\u001b[1;33m)\u001b[0m\u001b[1;33m)\u001b[0m\u001b[1;33m\u001b[0m\u001b[1;33m\u001b[0m\u001b[0m\n\u001b[0m",
      "\u001b[1;31mAttributeError\u001b[0m: 'Trajectory' object has no attribute 'plot_with_basemap'"
     ]
    }
   ],
   "source": [
    "trajectories[1].plot_with_basemap(linewidth=3.0, figsize=(9,9))"
   ]
  },
  {
   "cell_type": "markdown",
   "metadata": {},
   "source": [
    "## Finding intersections with a Shapely polygon"
   ]
  },
  {
   "cell_type": "code",
   "execution_count": null,
   "metadata": {},
   "outputs": [],
   "source": [
    "xmin, xmax, ymin, ymax = 116.3685035,116.3702945,39.904675,39.907728\n",
    "polygon = Polygon([(xmin,ymin), (xmin,ymax), (xmax,ymax), (xmax,ymin), (xmin,ymin)])\n",
    "\n",
    "intersections = []\n",
    "for key, values in df.groupby(['trajectory_id']):\n",
    "    traj = mp.Trajectory(key, values)\n",
    "    for intersection in traj.clip(polygon):\n",
    "        intersections.append(intersection)\n",
    "print(\"Found {} intersections\".format(len(intersections)))"
   ]
  },
  {
   "cell_type": "code",
   "execution_count": null,
   "metadata": {},
   "outputs": [],
   "source": [
    "intersections[2].plot()"
   ]
  },
  {
   "cell_type": "markdown",
   "metadata": {},
   "source": [
    "## Splitting trajectories\n",
    "\n",
    "Gaps are quite common in trajectories. For example, GPS tracks may contain gaps if moving objects enter tunnels where GPS reception is lost. In other use cases, moving objects may leave the observation area for longer time before returning and continuing their recorded track.\n",
    "\n",
    "Depending on the use case, we therefore might want to split trajectories at observation gaps that exceed a certain minimum duration:"
   ]
  },
  {
   "cell_type": "code",
   "execution_count": null,
   "metadata": {},
   "outputs": [],
   "source": [
    "print(trajectories[1])"
   ]
  },
  {
   "cell_type": "code",
   "execution_count": null,
   "metadata": {},
   "outputs": [],
   "source": [
    "split = trajectories[1].split_by_observation_gap(timedelta(minutes=5))\n",
    "for traj in split:\n",
    "    print(traj)"
   ]
  },
  {
   "cell_type": "code",
   "execution_count": null,
   "metadata": {},
   "outputs": [],
   "source": [
    "split[0].plot()"
   ]
  },
  {
   "cell_type": "markdown",
   "metadata": {},
   "source": [
    "## Generalizing trajectories\n",
    "\n",
    "To reduce the size of trajectory objects, we can generalize them, for example, using the Douglas-Peucker algorithm:"
   ]
  },
  {
   "cell_type": "code",
   "execution_count": null,
   "metadata": {},
   "outputs": [],
   "source": [
    "trajectories[1].plot(column='speed')"
   ]
  },
  {
   "cell_type": "markdown",
   "metadata": {},
   "source": [
    "Try different tolerance settings and observe the results in line geometry and therefore also length:"
   ]
  },
  {
   "cell_type": "code",
   "execution_count": null,
   "metadata": {},
   "outputs": [],
   "source": [
    "generalized_traj = trajectories[1].generalize(mode='douglas-peucker', tolerance=0.001)\n",
    "generalized_traj.plot(column='speed')"
   ]
  },
  {
   "cell_type": "code",
   "execution_count": null,
   "metadata": {},
   "outputs": [],
   "source": [
    "print('Original length: %s'%(trajectories[1].get_length()))\n",
    "print('Generalized length: %s'%(generalized_traj.get_length()))"
   ]
  },
  {
   "cell_type": "code",
   "execution_count": null,
   "metadata": {},
   "outputs": [],
   "source": [
    "generalized_traj.df"
   ]
  },
  {
   "cell_type": "code",
   "execution_count": null,
   "metadata": {},
   "outputs": [],
   "source": []
  }
 ],
 "metadata": {
  "kernelspec": {
   "display_name": "Python 3",
   "language": "python",
   "name": "python3"
  },
  "language_info": {
   "codemirror_mode": {
    "name": "ipython",
    "version": 3
   },
   "file_extension": ".py",
   "mimetype": "text/x-python",
   "name": "python",
   "nbconvert_exporter": "python",
   "pygments_lexer": "ipython3",
   "version": "3.7.3"
  }
 },
 "nbformat": 4,
 "nbformat_minor": 1
}
