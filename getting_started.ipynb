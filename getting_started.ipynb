{
 "cells": [
  {
   "cell_type": "markdown",
   "metadata": {},
   "source": [
    "# Getting started with MovingPanda\n",
    "\n",
    "MovingPandas provides a trajectory datatype based on GeoPandas\n",
    "\n",
    "https://github.com/anitagraser/movingpandas"
   ]
  },
  {
   "cell_type": "code",
   "execution_count": 1,
   "metadata": {},
   "outputs": [],
   "source": [
    "%matplotlib inline"
   ]
  },
  {
   "cell_type": "code",
   "execution_count": 2,
   "metadata": {},
   "outputs": [],
   "source": [
    "import urllib\n",
    "import os\n",
    "import pandas as pd\n",
    "import movingpandas as mp\n",
    "from geopandas import GeoDataFrame, read_file\n",
    "from shapely.geometry import Point, LineString, Polygon\n",
    "from datetime import datetime, timedelta"
   ]
  },
  {
   "cell_type": "markdown",
   "metadata": {},
   "source": [
    "## Creating a trajectory from scratch\n",
    "\n",
    "Trajectory objects consist of a trajectory ID and a GeoPandas GeoDataFrame with a DatetimeIndex. The data frame therefore represents the trajectory data as a Pandas time series with associated point locations (and optional further attributes)."
   ]
  },
  {
   "cell_type": "code",
   "execution_count": 3,
   "metadata": {},
   "outputs": [
    {
     "data": {
      "text/html": [
       "<div>\n",
       "<style scoped>\n",
       "    .dataframe tbody tr th:only-of-type {\n",
       "        vertical-align: middle;\n",
       "    }\n",
       "\n",
       "    .dataframe tbody tr th {\n",
       "        vertical-align: top;\n",
       "    }\n",
       "\n",
       "    .dataframe thead th {\n",
       "        text-align: right;\n",
       "    }\n",
       "</style>\n",
       "<table border=\"1\" class=\"dataframe\">\n",
       "  <thead>\n",
       "    <tr style=\"text-align: right;\">\n",
       "      <th></th>\n",
       "      <th>geometry</th>\n",
       "    </tr>\n",
       "    <tr>\n",
       "      <th>t</th>\n",
       "      <th></th>\n",
       "    </tr>\n",
       "  </thead>\n",
       "  <tbody>\n",
       "    <tr>\n",
       "      <th>2018-01-01 12:00:00</th>\n",
       "      <td>POINT (0 0)</td>\n",
       "    </tr>\n",
       "    <tr>\n",
       "      <th>2018-01-01 12:06:00</th>\n",
       "      <td>POINT (6 0)</td>\n",
       "    </tr>\n",
       "    <tr>\n",
       "      <th>2018-01-01 12:10:00</th>\n",
       "      <td>POINT (6 6)</td>\n",
       "    </tr>\n",
       "    <tr>\n",
       "      <th>2018-01-01 12:15:00</th>\n",
       "      <td>POINT (9 9)</td>\n",
       "    </tr>\n",
       "  </tbody>\n",
       "</table>\n",
       "</div>"
      ],
      "text/plain": [
       "                        geometry\n",
       "t                               \n",
       "2018-01-01 12:00:00  POINT (0 0)\n",
       "2018-01-01 12:06:00  POINT (6 0)\n",
       "2018-01-01 12:10:00  POINT (6 6)\n",
       "2018-01-01 12:15:00  POINT (9 9)"
      ]
     },
     "execution_count": 3,
     "metadata": {},
     "output_type": "execute_result"
    }
   ],
   "source": [
    "df = pd.DataFrame([\n",
    "  {'geometry':Point(0,0), 't':datetime(2018,1,1,12,0,0)},\n",
    "  {'geometry':Point(6,0), 't':datetime(2018,1,1,12,6,0)},\n",
    "  {'geometry':Point(6,6), 't':datetime(2018,1,1,12,10,0)},\n",
    "  {'geometry':Point(9,9), 't':datetime(2018,1,1,12,15,0)}\n",
    "]).set_index('t')\n",
    "geo_df = GeoDataFrame(df, crs={'init': '31256'})\n",
    "toy_traj = mp.Trajectory(1, geo_df)\n",
    "toy_traj.df"
   ]
  },
  {
   "cell_type": "code",
   "execution_count": 4,
   "metadata": {},
   "outputs": [
    {
     "name": "stdout",
     "output_type": "stream",
     "text": [
      "Trajectory 1 (2018-01-01 12:00:00 to 2018-01-01 12:15:00) | Size: 4 | Length: 16.2m\n",
      "Bounds: (0.0, 0.0, 9.0, 9.0)\n",
      "LINESTRING (0 0, 6 0, 6 6, 9 9)\n"
     ]
    }
   ],
   "source": [
    "print(toy_traj)"
   ]
  },
  {
   "cell_type": "code",
   "execution_count": 5,
   "metadata": {},
   "outputs": [
    {
     "data": {
      "text/html": [
       "<div>\n",
       "<style scoped>\n",
       "    .dataframe tbody tr th:only-of-type {\n",
       "        vertical-align: middle;\n",
       "    }\n",
       "\n",
       "    .dataframe tbody tr th {\n",
       "        vertical-align: top;\n",
       "    }\n",
       "\n",
       "    .dataframe thead th {\n",
       "        text-align: right;\n",
       "    }\n",
       "</style>\n",
       "<table border=\"1\" class=\"dataframe\">\n",
       "  <thead>\n",
       "    <tr style=\"text-align: right;\">\n",
       "      <th></th>\n",
       "      <th>geometry</th>\n",
       "      <th>prev_pt</th>\n",
       "      <th>dist_to_prev</th>\n",
       "    </tr>\n",
       "    <tr>\n",
       "      <th>t</th>\n",
       "      <th></th>\n",
       "      <th></th>\n",
       "      <th></th>\n",
       "    </tr>\n",
       "  </thead>\n",
       "  <tbody>\n",
       "    <tr>\n",
       "      <th>2018-01-01 12:00:00</th>\n",
       "      <td>POINT (0 0)</td>\n",
       "      <td>NaN</td>\n",
       "      <td>0.000000</td>\n",
       "    </tr>\n",
       "    <tr>\n",
       "      <th>2018-01-01 12:06:00</th>\n",
       "      <td>POINT (6 0)</td>\n",
       "      <td>POINT (0 0)</td>\n",
       "      <td>6.000000</td>\n",
       "    </tr>\n",
       "    <tr>\n",
       "      <th>2018-01-01 12:10:00</th>\n",
       "      <td>POINT (6 6)</td>\n",
       "      <td>POINT (6 0)</td>\n",
       "      <td>6.000000</td>\n",
       "    </tr>\n",
       "    <tr>\n",
       "      <th>2018-01-01 12:15:00</th>\n",
       "      <td>POINT (9 9)</td>\n",
       "      <td>POINT (6 6)</td>\n",
       "      <td>4.242641</td>\n",
       "    </tr>\n",
       "  </tbody>\n",
       "</table>\n",
       "</div>"
      ],
      "text/plain": [
       "                        geometry      prev_pt  dist_to_prev\n",
       "t                                                          \n",
       "2018-01-01 12:00:00  POINT (0 0)          NaN      0.000000\n",
       "2018-01-01 12:06:00  POINT (6 0)  POINT (0 0)      6.000000\n",
       "2018-01-01 12:10:00  POINT (6 6)  POINT (6 0)      6.000000\n",
       "2018-01-01 12:15:00  POINT (9 9)  POINT (6 6)      4.242641"
      ]
     },
     "execution_count": 5,
     "metadata": {},
     "output_type": "execute_result"
    }
   ],
   "source": [
    "toy_traj.df"
   ]
  },
  {
   "cell_type": "markdown",
   "metadata": {},
   "source": [
    "The notebook environment automatically plots Shapely geometry objects like the LineString returned by to_linestring() or the Point returned by get_position_at():"
   ]
  },
  {
   "cell_type": "code",
   "execution_count": 6,
   "metadata": {},
   "outputs": [
    {
     "data": {
      "image/svg+xml": [
       "<svg xmlns=\"http://www.w3.org/2000/svg\" xmlns:xlink=\"http://www.w3.org/1999/xlink\" width=\"100.0\" height=\"100.0\" viewBox=\"-0.36 -0.36 9.719999999999999 9.719999999999999\" preserveAspectRatio=\"xMinYMin meet\"><g transform=\"matrix(1,0,0,-1,0,9.0)\"><polyline fill=\"none\" stroke=\"#66cc99\" stroke-width=\"0.1944\" points=\"0.0,0.0 6.0,0.0 6.0,6.0 9.0,9.0\" opacity=\"0.8\" /></g></svg>"
      ],
      "text/plain": [
       "<shapely.geometry.linestring.LineString at 0x270e845de10>"
      ]
     },
     "execution_count": 6,
     "metadata": {},
     "output_type": "execute_result"
    }
   ],
   "source": [
    "toy_traj.to_linestring()"
   ]
  },
  {
   "cell_type": "code",
   "execution_count": 7,
   "metadata": {},
   "outputs": [
    {
     "data": {
      "text/html": [
       "<div>\n",
       "<style scoped>\n",
       "    .dataframe tbody tr th:only-of-type {\n",
       "        vertical-align: middle;\n",
       "    }\n",
       "\n",
       "    .dataframe tbody tr th {\n",
       "        vertical-align: top;\n",
       "    }\n",
       "\n",
       "    .dataframe thead th {\n",
       "        text-align: right;\n",
       "    }\n",
       "</style>\n",
       "<table border=\"1\" class=\"dataframe\">\n",
       "  <thead>\n",
       "    <tr style=\"text-align: right;\">\n",
       "      <th></th>\n",
       "      <th>geometry</th>\n",
       "      <th>prev_pt</th>\n",
       "      <th>dist_to_prev</th>\n",
       "      <th>delta_t</th>\n",
       "      <th>speed</th>\n",
       "    </tr>\n",
       "    <tr>\n",
       "      <th>t</th>\n",
       "      <th></th>\n",
       "      <th></th>\n",
       "      <th></th>\n",
       "      <th></th>\n",
       "      <th></th>\n",
       "    </tr>\n",
       "  </thead>\n",
       "  <tbody>\n",
       "    <tr>\n",
       "      <th>2018-01-01 12:00:00</th>\n",
       "      <td>POINT (0 0)</td>\n",
       "      <td>NaN</td>\n",
       "      <td>0.000000</td>\n",
       "      <td>NaT</td>\n",
       "      <td>0.016667</td>\n",
       "    </tr>\n",
       "    <tr>\n",
       "      <th>2018-01-01 12:06:00</th>\n",
       "      <td>POINT (6 0)</td>\n",
       "      <td>POINT (0 0)</td>\n",
       "      <td>6.000000</td>\n",
       "      <td>00:06:00</td>\n",
       "      <td>0.016667</td>\n",
       "    </tr>\n",
       "    <tr>\n",
       "      <th>2018-01-01 12:10:00</th>\n",
       "      <td>POINT (6 6)</td>\n",
       "      <td>POINT (6 0)</td>\n",
       "      <td>6.000000</td>\n",
       "      <td>00:04:00</td>\n",
       "      <td>0.025000</td>\n",
       "    </tr>\n",
       "    <tr>\n",
       "      <th>2018-01-01 12:15:00</th>\n",
       "      <td>POINT (9 9)</td>\n",
       "      <td>POINT (6 6)</td>\n",
       "      <td>4.242641</td>\n",
       "      <td>00:05:00</td>\n",
       "      <td>0.014142</td>\n",
       "    </tr>\n",
       "  </tbody>\n",
       "</table>\n",
       "</div>"
      ],
      "text/plain": [
       "                        geometry      prev_pt  dist_to_prev  delta_t     speed\n",
       "t                                                                             \n",
       "2018-01-01 12:00:00  POINT (0 0)          NaN      0.000000      NaT  0.016667\n",
       "2018-01-01 12:06:00  POINT (6 0)  POINT (0 0)      6.000000 00:06:00  0.016667\n",
       "2018-01-01 12:10:00  POINT (6 6)  POINT (6 0)      6.000000 00:04:00  0.025000\n",
       "2018-01-01 12:15:00  POINT (9 9)  POINT (6 6)      4.242641 00:05:00  0.014142"
      ]
     },
     "execution_count": 7,
     "metadata": {},
     "output_type": "execute_result"
    }
   ],
   "source": [
    "toy_traj.add_speed()\n",
    "toy_traj.df"
   ]
  },
  {
   "cell_type": "code",
   "execution_count": 8,
   "metadata": {},
   "outputs": [
    {
     "data": {
      "text/plain": [
       "<matplotlib.axes._subplots.AxesSubplot at 0x270e849f6d8>"
      ]
     },
     "execution_count": 8,
     "metadata": {},
     "output_type": "execute_result"
    },
    {
     "data": {
      "image/png": "[encoded data removed]",
      "text/plain": [
       "<Figure size 432x288 with 1 Axes>"
      ]
     },
     "metadata": {
      "needs_background": "light"
     },
     "output_type": "display_data"
    }
   ],
   "source": [
    "toy_traj.plot(column=\"speed\")"
   ]
  },
  {
   "cell_type": "code",
   "execution_count": 9,
   "metadata": {},
   "outputs": [
    {
     "data": {
      "image/svg+xml": [
       "<svg xmlns=\"http://www.w3.org/2000/svg\" xmlns:xlink=\"http://www.w3.org/1999/xlink\" width=\"100.0\" height=\"100.0\" viewBox=\"5.0 -1.0 2.0 2.0\" preserveAspectRatio=\"xMinYMin meet\"><g transform=\"matrix(1,0,0,-1,0,0.0)\"><circle cx=\"6.0\" cy=\"0.0\" r=\"0.06\" stroke=\"#555555\" stroke-width=\"0.02\" fill=\"#66cc99\" opacity=\"0.6\" /></g></svg>"
      ],
      "text/plain": [
       "<shapely.geometry.point.Point at 0x270e8428278>"
      ]
     },
     "execution_count": 9,
     "metadata": {},
     "output_type": "execute_result"
    }
   ],
   "source": [
    "toy_traj.get_position_at(datetime(2018,1,1,12,6,0), method=\"nearest\")    "
   ]
  },
  {
   "cell_type": "code",
   "execution_count": 10,
   "metadata": {},
   "outputs": [
    {
     "name": "stdout",
     "output_type": "stream",
     "text": [
      "POINT (6 0)\n"
     ]
    }
   ],
   "source": [
    "print(toy_traj.get_position_at(datetime(2018,1,1,12,6,0), method=\"nearest\"))"
   ]
  },
  {
   "cell_type": "markdown",
   "metadata": {},
   "source": [
    "## Extracting trajectory segments based on time or geometry (i.e. clipping)\n",
    "\n",
    "First, let's extract the trajectory segment for a certain time period:"
   ]
  },
  {
   "cell_type": "code",
   "execution_count": 11,
   "metadata": {},
   "outputs": [
    {
     "name": "stdout",
     "output_type": "stream",
     "text": [
      "Trajectory 1 (2018-01-01 12:06:00 to 2018-01-01 12:10:00) | Size: 2 | Length: 6.0m\n",
      "Bounds: (6.0, 0.0, 6.0, 6.0)\n",
      "LINESTRING (6 0, 6 6)\n"
     ]
    }
   ],
   "source": [
    "print(toy_traj.get_segment_between(datetime(2018,1,1,12,6,0),datetime(2018,1,1,12,12,0)))"
   ]
  },
  {
   "cell_type": "markdown",
   "metadata": {},
   "source": [
    "Now, let's extract the trajectory segment that intersects with a given polygon:"
   ]
  },
  {
   "cell_type": "code",
   "execution_count": 12,
   "metadata": {},
   "outputs": [
    {
     "data": {
      "image/svg+xml": [
       "<svg xmlns=\"http://www.w3.org/2000/svg\" xmlns:xlink=\"http://www.w3.org/1999/xlink\" width=\"100.0\" height=\"100.0\" viewBox=\"1.4 -10.6 7.199999999999999 16.2\" preserveAspectRatio=\"xMinYMin meet\"><g transform=\"matrix(1,0,0,-1,0,-5.0)\"><path fill-rule=\"evenodd\" fill=\"#66cc99\" stroke=\"#555555\" stroke-width=\"0.324\" opacity=\"0.6\" d=\"M 2.0,-10.0 L 2.0,5.0 L 8.0,5.0 L 8.0,-10.0 L 2.0,-10.0 z\" /></g></svg>"
      ],
      "text/plain": [
       "<shapely.geometry.polygon.Polygon at 0x270e851e128>"
      ]
     },
     "execution_count": 12,
     "metadata": {},
     "output_type": "execute_result"
    }
   ],
   "source": [
    "xmin, xmax, ymin, ymax = 2, 8, -10, 5\n",
    "polygon = Polygon([(xmin, ymin), (xmin, ymax), (xmax, ymax), (xmax, ymin), (xmin, ymin)])\n",
    "polygon"
   ]
  },
  {
   "cell_type": "code",
   "execution_count": 13,
   "metadata": {},
   "outputs": [
    {
     "name": "stdout",
     "output_type": "stream",
     "text": [
      "Trajectory 1_0 (2018-01-01 12:02:00 to 2018-01-01 12:09:20) | Size: 3 | Length: 9.0m\n",
      "Bounds: (2.0, 0.0, 6.0, 5.0)\n",
      "LINESTRING (2 0, 6 0, 6 5)\n"
     ]
    }
   ],
   "source": [
    "intersection = toy_traj.clip(polygon)\n",
    "print(intersection[0])"
   ]
  },
  {
   "cell_type": "code",
   "execution_count": 14,
   "metadata": {},
   "outputs": [
    {
     "data": {
      "text/plain": [
       "<matplotlib.axes._subplots.AxesSubplot at 0x270e85336a0>"
      ]
     },
     "execution_count": 14,
     "metadata": {},
     "output_type": "execute_result"
    },
    {
     "data": {
      "image/png": "[encoded data removed]",
      "text/plain": [
       "<Figure size 432x288 with 1 Axes>"
      ]
     },
     "metadata": {
      "needs_background": "light"
     },
     "output_type": "display_data"
    }
   ],
   "source": [
    "intersection[0].plot()"
   ]
  },
  {
   "cell_type": "markdown",
   "metadata": {},
   "source": [
    "## Loading trajectory data from GeoPackage\n",
    "\n",
    "The MovingPandas repository contains a demo GeoPackage file that can be loaded as follows:"
   ]
  },
  {
   "cell_type": "code",
   "execution_count": 15,
   "metadata": {},
   "outputs": [],
   "source": [
    "url = 'https://github.com/anitagraser/movingpandas/raw/master/demo/demodata_geolife.gpkg'\n",
    "filename = url.split('/')[-1] \n",
    "\n",
    "response = urllib.request.urlopen(url)\n",
    "content = response.read()\n",
    "with open(filename, 'wb' ) as f:\n",
    "    f.write( content )\n"
   ]
  },
  {
   "cell_type": "code",
   "execution_count": 16,
   "metadata": {},
   "outputs": [],
   "source": [
    "assert(os.path.exists(filename))"
   ]
  },
  {
   "cell_type": "markdown",
   "metadata": {},
   "source": [
    "Now, we can use GeoPandas' read_file() function to read the GeoPackage and construct the Trajectories:"
   ]
  },
  {
   "cell_type": "code",
   "execution_count": 17,
   "metadata": {},
   "outputs": [
    {
     "name": "stdout",
     "output_type": "stream",
     "text": [
      "Finished reading 5908 rows in 0:00:00.372580\n",
      "Trajectory 1 (2008-12-11 04:42:14+00:00 to 2008-12-11 05:15:46+00:00) | Size: 466 | Length: 6210.1m\n",
      "Bounds: (116.385602, 39.862378, 116.393553, 39.898723)\n",
      "LINESTRING (116.391305 39.898573, 116.391317 39.898617, 116.390928 39.898613, 116.390833 39.898635, \n",
      "Trajectory 2 (2009-06-29 07:02:25+00:00 to 2009-06-29 11:13:12+00:00) | Size: 897 | Length: 38728.7m\n",
      "Bounds: (116.319212, 39.971703, 116.592616, 40.082514)\n",
      "LINESTRING (116.590957 40.071961, 116.590905 40.072007, 116.590879 40.072027, 116.590915 40.072004, \n",
      "Trajectory 3 (2009-02-04 04:32:53+00:00 to 2009-02-04 11:20:12+00:00) | Size: 1810 | Length: 12739.2m\n",
      "Bounds: (116.332706, 39.897023, 116.387307, 39.927949)\n",
      "LINESTRING (116.385689 39.899773, 116.385654 39.899651, 116.385548 39.899699, 116.385527 39.899632, \n",
      "Trajectory 4 (2009-03-10 10:36:45+00:00 to 2009-03-10 12:01:07+00:00) | Size: 1864 | Length: 14357.6m\n",
      "Bounds: (116.327347, 39.896671, 116.389611, 39.927947)\n",
      "LINESTRING (116.388053 39.903418, 116.388042 39.9035, 116.388035 39.903467, 116.388061 39.903541, 11\n",
      "Trajectory 5 (2009-02-25 09:47:03+00:00 to 2009-02-25 14:31:24+00:00) | Size: 871 | Length: 39289.3m\n",
      "Bounds: (116.294527, 39.89825, 116.38552, 40.052399)\n",
      "LINESTRING (116.385256 39.90027, 116.38525 39.900222, 116.385374 39.900249, 116.385368 39.900264, 11\n",
      "Finished creating 5 trajectories in 0:00:01.416289\n"
     ]
    }
   ],
   "source": [
    "t_start = datetime.now()\n",
    "df = read_file(filename)\n",
    "df['t'] = pd.to_datetime(df['t'])\n",
    "df = df.set_index('t')\n",
    "print(\"Finished reading {} rows in {}\".format(len(df),datetime.now() - t_start))\n",
    "\n",
    "t_start = datetime.now()\n",
    "trajectories = []\n",
    "for key, values in df.groupby(['trajectory_id']):\n",
    "    trajectory = mp.Trajectory(key, values)\n",
    "    print(trajectory)\n",
    "    trajectories.append(trajectory)\n",
    "print(\"Finished creating {} trajectories in {}\".format(len(trajectories),datetime.now() - t_start))"
   ]
  },
  {
   "cell_type": "markdown",
   "metadata": {},
   "source": [
    "Let's look at one of those trajectories:"
   ]
  },
  {
   "cell_type": "code",
   "execution_count": 18,
   "metadata": {},
   "outputs": [
    {
     "data": {
      "text/plain": [
       "<matplotlib.axes._subplots.AxesSubplot at 0x270e86bc940>"
      ]
     },
     "execution_count": 18,
     "metadata": {},
     "output_type": "execute_result"
    },
    {
     "data": {
      "image/png": "[encoded data removed]",
      "text/plain": [
       "<Figure size 432x288 with 1 Axes>"
      ]
     },
     "metadata": {
      "needs_background": "light"
     },
     "output_type": "display_data"
    }
   ],
   "source": [
    "trajectories[1].plot(column='speed')"
   ]
  },
  {
   "cell_type": "markdown",
   "metadata": {},
   "source": [
    "## Finding intersections with a Shapely polygon"
   ]
  },
  {
   "cell_type": "code",
   "execution_count": 19,
   "metadata": {},
   "outputs": [
    {
     "name": "stderr",
     "output_type": "stream",
     "text": [
      "C:\\Users\\anita\\Documents\\GitHub\\anitagraser\\movingpandas\\movingpandas\\trajectory.py:79: UserWarning: Discarding nonzero nanoseconds in conversion\n",
      "  if not self.get_start_time() < self.get_end_time():\n"
     ]
    },
    {
     "name": "stdout",
     "output_type": "stream",
     "text": [
      "Found 3 intersections\n"
     ]
    },
    {
     "name": "stderr",
     "output_type": "stream",
     "text": [
      "C:\\Users\\anita\\Documents\\GitHub\\anitagraser\\movingpandas\\movingpandas\\trajectory.py:79: UserWarning: Discarding nonzero nanoseconds in conversion\n",
      "  if not self.get_start_time() < self.get_end_time():\n",
      "C:\\Users\\anita\\Documents\\GitHub\\anitagraser\\movingpandas\\movingpandas\\trajectory.py:79: UserWarning: Discarding nonzero nanoseconds in conversion\n",
      "  if not self.get_start_time() < self.get_end_time():\n"
     ]
    }
   ],
   "source": [
    "xmin, xmax, ymin, ymax = 116.3685035,116.3702945,39.904675,39.907728\n",
    "polygon = Polygon([(xmin,ymin), (xmin,ymax), (xmax,ymax), (xmax,ymin), (xmin,ymin)])\n",
    "\n",
    "intersections = []\n",
    "for key, values in df.groupby(['trajectory_id']):\n",
    "    traj = mp.Trajectory(key, values)\n",
    "    for intersection in traj.clip(polygon):\n",
    "        intersections.append(intersection)\n",
    "print(\"Found {} intersections\".format(len(intersections)))"
   ]
  },
  {
   "cell_type": "code",
   "execution_count": 20,
   "metadata": {},
   "outputs": [
    {
     "data": {
      "text/plain": [
       "<matplotlib.axes._subplots.AxesSubplot at 0x270e876a898>"
      ]
     },
     "execution_count": 20,
     "metadata": {},
     "output_type": "execute_result"
    },
    {
     "data": {
      "image/png": "[encoded data removed]",
      "text/plain": [
       "<Figure size 432x288 with 1 Axes>"
      ]
     },
     "metadata": {
      "needs_background": "light"
     },
     "output_type": "display_data"
    }
   ],
   "source": [
    "intersections[2].plot()"
   ]
  },
  {
   "cell_type": "markdown",
   "metadata": {},
   "source": [
    "## Splitting trajectories\n",
    "\n",
    "Gaps are quite common in trajectories. For example, GPS tracks may contain gaps if moving objects enter tunnels where GPS reception is lost. In other use cases, moving objects may leave the observation area for longer time before returning and continuing their recorded track.\n",
    "\n",
    "Depending on the use case, we therefore might want to split trajectories at observation gaps that exceed a certain minimum duration:"
   ]
  },
  {
   "cell_type": "code",
   "execution_count": 21,
   "metadata": {},
   "outputs": [
    {
     "name": "stdout",
     "output_type": "stream",
     "text": [
      "Trajectory 2 (2009-06-29 07:02:25+00:00 to 2009-06-29 11:13:12+00:00) | Size: 897 | Length: 38728.7m\n",
      "Bounds: (116.319212, 39.971703, 116.592616, 40.082514)\n",
      "LINESTRING (116.590957 40.071961, 116.590905 40.072007, 116.590879 40.072027, 116.590915 40.072004, \n"
     ]
    }
   ],
   "source": [
    "print(trajectories[1])"
   ]
  },
  {
   "cell_type": "code",
   "execution_count": 22,
   "metadata": {},
   "outputs": [
    {
     "name": "stdout",
     "output_type": "stream",
     "text": [
      "Trajectory 2_0 (2009-06-29 07:02:25+00:00 to 2009-06-29 07:17:05+00:00) | Size: 152 | Length: 2554.1m\n",
      "Bounds: (116.586342, 40.07196, 116.592616, 40.082514)\n",
      "LINESTRING (116.590957 40.071961, 116.590905 40.072007, 116.590879 40.072027, 116.590915 40.072004, \n",
      "Trajectory 2_1 (2009-06-29 07:29:35+00:00 to 2009-06-29 08:20:15+00:00) | Size: 619 | Length: 33733.3m\n",
      "Bounds: (116.319212, 39.971703, 116.587085, 40.079854)\n",
      "LINESTRING (116.587031 40.07951, 116.587041 40.079514, 116.587032 40.079524, 116.586998 40.079528, 1\n",
      "Trajectory 2_2 (2009-06-29 10:57:17+00:00 to 2009-06-29 11:13:12+00:00) | Size: 126 | Length: 2326.4m\n",
      "Bounds: (116.319598, 39.999772, 116.327485, 40.007696)\n",
      "LINESTRING (116.319697 40.007513, 116.319706 40.007586, 116.319636 40.007687, 116.319598 40.007696, \n"
     ]
    }
   ],
   "source": [
    "split = trajectories[1].split_by_observation_gap(timedelta(minutes=5))\n",
    "for traj in split:\n",
    "    print(traj)"
   ]
  },
  {
   "cell_type": "code",
   "execution_count": 23,
   "metadata": {},
   "outputs": [
    {
     "data": {
      "text/plain": [
       "<matplotlib.axes._subplots.AxesSubplot at 0x270e8824208>"
      ]
     },
     "execution_count": 23,
     "metadata": {},
     "output_type": "execute_result"
    },
    {
     "data": {
      "image/png": "[encoded data removed]",
      "text/plain": [
       "<Figure size 432x288 with 1 Axes>"
      ]
     },
     "metadata": {
      "needs_background": "light"
     },
     "output_type": "display_data"
    }
   ],
   "source": [
    "split[0].plot()"
   ]
  },
  {
   "cell_type": "markdown",
   "metadata": {},
   "source": [
    "## Generalizing trajectories\n",
    "\n",
    "To reduce the size of trajectory objects, we can generalize them, for example, using the Douglas-Peucker algorithm:"
   ]
  },
  {
   "cell_type": "code",
   "execution_count": 24,
   "metadata": {},
   "outputs": [
    {
     "data": {
      "text/plain": [
       "<matplotlib.axes._subplots.AxesSubplot at 0x270e864b0b8>"
      ]
     },
     "execution_count": 24,
     "metadata": {},
     "output_type": "execute_result"
    },
    {
     "data": {
      "image/png": "[encoded data removed]",
      "text/plain": [
       "<Figure size 432x288 with 1 Axes>"
      ]
     },
     "metadata": {
      "needs_background": "light"
     },
     "output_type": "display_data"
    }
   ],
   "source": [
    "trajectories[1].plot(column='speed')"
   ]
  },
  {
   "cell_type": "markdown",
   "metadata": {},
   "source": [
    "Try different tolerance settings and observe the results in line geometry and therefore also length:"
   ]
  },
  {
   "cell_type": "code",
   "execution_count": 25,
   "metadata": {},
   "outputs": [
    {
     "data": {
      "text/plain": [
       "<matplotlib.axes._subplots.AxesSubplot at 0x270e85d7908>"
      ]
     },
     "execution_count": 25,
     "metadata": {},
     "output_type": "execute_result"
    },
    {
     "data": {
      "image/png": "[encoded data removed]",
      "text/plain": [
       "<Figure size 432x288 with 1 Axes>"
      ]
     },
     "metadata": {
      "needs_background": "light"
     },
     "output_type": "display_data"
    }
   ],
   "source": [
    "generalized_traj = trajectories[1].generalize(mode='douglas-peucker', tolerance=0.01)\n",
    "generalized_traj.plot(column='speed')"
   ]
  },
  {
   "cell_type": "code",
   "execution_count": 26,
   "metadata": {},
   "outputs": [
    {
     "name": "stdout",
     "output_type": "stream",
     "text": [
      "Original length: 38728.7215399247\n",
      "Generalized length: 29395.614300556055\n"
     ]
    }
   ],
   "source": [
    "print('Original length: %s'%(trajectories[1].get_length()))\n",
    "print('Generalized length: %s'%(generalized_traj.get_length()))"
   ]
  },
  {
   "cell_type": "code",
   "execution_count": 27,
   "metadata": {},
   "outputs": [
    {
     "data": {
      "text/html": [
       "<div>\n",
       "<style scoped>\n",
       "    .dataframe tbody tr th:only-of-type {\n",
       "        vertical-align: middle;\n",
       "    }\n",
       "\n",
       "    .dataframe tbody tr th {\n",
       "        vertical-align: top;\n",
       "    }\n",
       "\n",
       "    .dataframe thead th {\n",
       "        text-align: right;\n",
       "    }\n",
       "</style>\n",
       "<table border=\"1\" class=\"dataframe\">\n",
       "  <thead>\n",
       "    <tr style=\"text-align: right;\">\n",
       "      <th></th>\n",
       "      <th>id</th>\n",
       "      <th>sequence</th>\n",
       "      <th>trajectory_id</th>\n",
       "      <th>tracker</th>\n",
       "      <th>geometry</th>\n",
       "      <th>prev_pt</th>\n",
       "      <th>dist_to_prev</th>\n",
       "      <th>delta_t</th>\n",
       "      <th>speed</th>\n",
       "      <th>line</th>\n",
       "      <th>t</th>\n",
       "      <th>gap</th>\n",
       "    </tr>\n",
       "    <tr>\n",
       "      <th>t</th>\n",
       "      <th></th>\n",
       "      <th></th>\n",
       "      <th></th>\n",
       "      <th></th>\n",
       "      <th></th>\n",
       "      <th></th>\n",
       "      <th></th>\n",
       "      <th></th>\n",
       "      <th></th>\n",
       "      <th></th>\n",
       "      <th></th>\n",
       "      <th></th>\n",
       "    </tr>\n",
       "  </thead>\n",
       "  <tbody>\n",
       "    <tr>\n",
       "      <th>2009-06-29 07:02:25+00:00</th>\n",
       "      <td>1556</td>\n",
       "      <td>1090</td>\n",
       "      <td>2</td>\n",
       "      <td>0</td>\n",
       "      <td>POINT (116.590957 40.071961)</td>\n",
       "      <td>NaN</td>\n",
       "      <td>0.000000</td>\n",
       "      <td>NaT</td>\n",
       "      <td>1.352640</td>\n",
       "      <td>None</td>\n",
       "      <td>2009-06-29 07:02:25+00:00</td>\n",
       "      <td>0</td>\n",
       "    </tr>\n",
       "    <tr>\n",
       "      <th>2009-06-29 07:34:00+00:00</th>\n",
       "      <td>1762</td>\n",
       "      <td>1296</td>\n",
       "      <td>2</td>\n",
       "      <td>0</td>\n",
       "      <td>POINT (116.582176 40.074804)</td>\n",
       "      <td>POINT (116.590957 40.071961)</td>\n",
       "      <td>811.288792</td>\n",
       "      <td>00:00:05</td>\n",
       "      <td>14.639868</td>\n",
       "      <td>LINESTRING (116.590957 40.071961, 116.582176 4...</td>\n",
       "      <td>2009-06-29 07:34:00+00:00</td>\n",
       "      <td>1</td>\n",
       "    </tr>\n",
       "    <tr>\n",
       "      <th>2009-06-29 07:38:20+00:00</th>\n",
       "      <td>1814</td>\n",
       "      <td>1348</td>\n",
       "      <td>2</td>\n",
       "      <td>0</td>\n",
       "      <td>POINT (116.56637 40.035079)</td>\n",
       "      <td>POINT (116.582176 40.074804)</td>\n",
       "      <td>4617.530081</td>\n",
       "      <td>00:00:05</td>\n",
       "      <td>22.916598</td>\n",
       "      <td>LINESTRING (116.582176 40.074804, 116.56637 40...</td>\n",
       "      <td>2009-06-29 07:38:20+00:00</td>\n",
       "      <td>1</td>\n",
       "    </tr>\n",
       "    <tr>\n",
       "      <th>2009-06-29 07:46:15+00:00</th>\n",
       "      <td>1909</td>\n",
       "      <td>1443</td>\n",
       "      <td>2</td>\n",
       "      <td>0</td>\n",
       "      <td>POINT (116.472209 39.978068)</td>\n",
       "      <td>POINT (116.56637 40.035079)</td>\n",
       "      <td>10222.803028</td>\n",
       "      <td>00:00:05</td>\n",
       "      <td>22.349895</td>\n",
       "      <td>LINESTRING (116.56637 40.035079, 116.472209 39...</td>\n",
       "      <td>2009-06-29 07:46:15+00:00</td>\n",
       "      <td>1</td>\n",
       "    </tr>\n",
       "    <tr>\n",
       "      <th>2009-06-29 08:13:40+00:00</th>\n",
       "      <td>2248</td>\n",
       "      <td>1782</td>\n",
       "      <td>2</td>\n",
       "      <td>0</td>\n",
       "      <td>POINT (116.322487 39.994491)</td>\n",
       "      <td>POINT (116.472209 39.978068)</td>\n",
       "      <td>12885.973209</td>\n",
       "      <td>00:00:05</td>\n",
       "      <td>5.754064</td>\n",
       "      <td>LINESTRING (116.472209 39.978068, 116.322487 3...</td>\n",
       "      <td>2009-06-29 08:13:40+00:00</td>\n",
       "      <td>1</td>\n",
       "    </tr>\n",
       "    <tr>\n",
       "      <th>2009-06-29 11:03:32+00:00</th>\n",
       "      <td>2402</td>\n",
       "      <td>1936</td>\n",
       "      <td>2</td>\n",
       "      <td>0</td>\n",
       "      <td>POINT (116.324874 39.999788)</td>\n",
       "      <td>POINT (116.322487 39.994491)</td>\n",
       "      <td>623.109197</td>\n",
       "      <td>00:00:05</td>\n",
       "      <td>3.881121</td>\n",
       "      <td>LINESTRING (116.322487 39.994491, 116.324874 3...</td>\n",
       "      <td>2009-06-29 11:03:32+00:00</td>\n",
       "      <td>2</td>\n",
       "    </tr>\n",
       "    <tr>\n",
       "      <th>2009-06-29 11:13:12+00:00</th>\n",
       "      <td>2452</td>\n",
       "      <td>1986</td>\n",
       "      <td>2</td>\n",
       "      <td>0</td>\n",
       "      <td>POINT (116.32746 40.000522)</td>\n",
       "      <td>POINT (116.324874 39.999788)</td>\n",
       "      <td>234.909994</td>\n",
       "      <td>00:03:05</td>\n",
       "      <td>0.315369</td>\n",
       "      <td>LINESTRING (116.324874 39.999788, 116.32746 40...</td>\n",
       "      <td>2009-06-29 11:13:12+00:00</td>\n",
       "      <td>2</td>\n",
       "    </tr>\n",
       "  </tbody>\n",
       "</table>\n",
       "</div>"
      ],
      "text/plain": [
       "                             id  sequence  trajectory_id  tracker  \\\n",
       "t                                                                   \n",
       "2009-06-29 07:02:25+00:00  1556      1090              2        0   \n",
       "2009-06-29 07:34:00+00:00  1762      1296              2        0   \n",
       "2009-06-29 07:38:20+00:00  1814      1348              2        0   \n",
       "2009-06-29 07:46:15+00:00  1909      1443              2        0   \n",
       "2009-06-29 08:13:40+00:00  2248      1782              2        0   \n",
       "2009-06-29 11:03:32+00:00  2402      1936              2        0   \n",
       "2009-06-29 11:13:12+00:00  2452      1986              2        0   \n",
       "\n",
       "                                               geometry  \\\n",
       "t                                                         \n",
       "2009-06-29 07:02:25+00:00  POINT (116.590957 40.071961)   \n",
       "2009-06-29 07:34:00+00:00  POINT (116.582176 40.074804)   \n",
       "2009-06-29 07:38:20+00:00   POINT (116.56637 40.035079)   \n",
       "2009-06-29 07:46:15+00:00  POINT (116.472209 39.978068)   \n",
       "2009-06-29 08:13:40+00:00  POINT (116.322487 39.994491)   \n",
       "2009-06-29 11:03:32+00:00  POINT (116.324874 39.999788)   \n",
       "2009-06-29 11:13:12+00:00   POINT (116.32746 40.000522)   \n",
       "\n",
       "                                                prev_pt  dist_to_prev  \\\n",
       "t                                                                       \n",
       "2009-06-29 07:02:25+00:00                           NaN      0.000000   \n",
       "2009-06-29 07:34:00+00:00  POINT (116.590957 40.071961)    811.288792   \n",
       "2009-06-29 07:38:20+00:00  POINT (116.582176 40.074804)   4617.530081   \n",
       "2009-06-29 07:46:15+00:00   POINT (116.56637 40.035079)  10222.803028   \n",
       "2009-06-29 08:13:40+00:00  POINT (116.472209 39.978068)  12885.973209   \n",
       "2009-06-29 11:03:32+00:00  POINT (116.322487 39.994491)    623.109197   \n",
       "2009-06-29 11:13:12+00:00  POINT (116.324874 39.999788)    234.909994   \n",
       "\n",
       "                           delta_t      speed  \\\n",
       "t                                               \n",
       "2009-06-29 07:02:25+00:00      NaT   1.352640   \n",
       "2009-06-29 07:34:00+00:00 00:00:05  14.639868   \n",
       "2009-06-29 07:38:20+00:00 00:00:05  22.916598   \n",
       "2009-06-29 07:46:15+00:00 00:00:05  22.349895   \n",
       "2009-06-29 08:13:40+00:00 00:00:05   5.754064   \n",
       "2009-06-29 11:03:32+00:00 00:00:05   3.881121   \n",
       "2009-06-29 11:13:12+00:00 00:03:05   0.315369   \n",
       "\n",
       "                                                                        line  \\\n",
       "t                                                                              \n",
       "2009-06-29 07:02:25+00:00                                               None   \n",
       "2009-06-29 07:34:00+00:00  LINESTRING (116.590957 40.071961, 116.582176 4...   \n",
       "2009-06-29 07:38:20+00:00  LINESTRING (116.582176 40.074804, 116.56637 40...   \n",
       "2009-06-29 07:46:15+00:00  LINESTRING (116.56637 40.035079, 116.472209 39...   \n",
       "2009-06-29 08:13:40+00:00  LINESTRING (116.472209 39.978068, 116.322487 3...   \n",
       "2009-06-29 11:03:32+00:00  LINESTRING (116.322487 39.994491, 116.324874 3...   \n",
       "2009-06-29 11:13:12+00:00  LINESTRING (116.324874 39.999788, 116.32746 40...   \n",
       "\n",
       "                                                  t  gap  \n",
       "t                                                         \n",
       "2009-06-29 07:02:25+00:00 2009-06-29 07:02:25+00:00    0  \n",
       "2009-06-29 07:34:00+00:00 2009-06-29 07:34:00+00:00    1  \n",
       "2009-06-29 07:38:20+00:00 2009-06-29 07:38:20+00:00    1  \n",
       "2009-06-29 07:46:15+00:00 2009-06-29 07:46:15+00:00    1  \n",
       "2009-06-29 08:13:40+00:00 2009-06-29 08:13:40+00:00    1  \n",
       "2009-06-29 11:03:32+00:00 2009-06-29 11:03:32+00:00    2  \n",
       "2009-06-29 11:13:12+00:00 2009-06-29 11:13:12+00:00    2  "
      ]
     },
     "execution_count": 27,
     "metadata": {},
     "output_type": "execute_result"
    }
   ],
   "source": [
    "generalized_traj.df"
   ]
  },
  {
   "cell_type": "code",
   "execution_count": null,
   "metadata": {},
   "outputs": [],
   "source": []
  }
 ],
 "metadata": {
  "kernelspec": {
   "display_name": "Python 3",
   "language": "python",
   "name": "python3"
  },
  "language_info": {
   "codemirror_mode": {
    "name": "ipython",
    "version": 3
   },
   "file_extension": ".py",
   "mimetype": "text/x-python",
   "name": "python",
   "nbconvert_exporter": "python",
   "pygments_lexer": "ipython3",
   "version": "3.7.3"
  }
 },
 "nbformat": 4,
 "nbformat_minor": 1
}
